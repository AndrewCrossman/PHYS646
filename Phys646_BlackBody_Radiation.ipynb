{
  "nbformat": 4,
  "nbformat_minor": 0,
  "metadata": {
    "colab": {
      "name": "Phys646_BlackBody_Radiation.ipynb",
      "provenance": [],
      "authorship_tag": "ABX9TyMV0sECIbCL/NA9oRVmppqW",
      "include_colab_link": true
    },
    "kernelspec": {
      "name": "python3",
      "display_name": "Python 3"
    },
    "language_info": {
      "name": "python"
    }
  },
  "cells": [
    {
      "cell_type": "markdown",
      "metadata": {
        "id": "view-in-github",
        "colab_type": "text"
      },
      "source": [
        "<a href=\"https://colab.research.google.com/github/AndrewCrossman/PHYS646/blob/main/Phys646_BlackBody_Radiation.ipynb\" target=\"_parent\"><img src=\"https://colab.research.google.com/assets/colab-badge.svg\" alt=\"Open In Colab\"/></a>"
      ]
    },
    {
      "cell_type": "code",
      "execution_count": 24,
      "metadata": {
        "colab": {
          "base_uri": "https://localhost:8080/"
        },
        "id": "E7L3tS7SeBpe",
        "outputId": "74a07baf-482a-4eab-88cd-e1fe61d0649d"
      },
      "outputs": [
        {
          "output_type": "stream",
          "name": "stdout",
          "text": [
            "Populating the interactive namespace from numpy and matplotlib\n"
          ]
        },
        {
          "output_type": "stream",
          "name": "stderr",
          "text": [
            "/usr/local/lib/python3.7/dist-packages/IPython/core/magics/pylab.py:161: UserWarning: pylab import has clobbered these variables: ['plt']\n",
            "`%matplotlib` prevents importing * from pylab and numpy\n",
            "  \"\\n`%matplotlib` prevents importing * from pylab and numpy\"\n"
          ]
        }
      ],
      "source": [
        "import numpy as np\n",
        "import scipy as sp\n",
        "from scipy import stats\n",
        "import matplotlib.pylab as plt\n",
        "from scipy.stats import linregress\n",
        "%pylab inline\n",
        "#plt.style.use(\"https://raw.githubusercontent.com/fedhere/DSPS/master/fbb.mplstyle\")"
      ]
    },
    {
      "cell_type": "code",
      "source": [
        "h = 6.62607015*10**(-34)\n",
        "c = 3*10**8\n",
        "l = 1150*10**(-9)\n",
        "k = 1.380649*10**(-23)"
      ],
      "metadata": {
        "id": "SXmdreC9uI6V"
      },
      "execution_count": 12,
      "outputs": []
    },
    {
      "cell_type": "code",
      "source": [
        "temps = np.linspace(1,1000,50)\n",
        "dtemps = 1/temps\n",
        "print(dtemps)"
      ],
      "metadata": {
        "colab": {
          "base_uri": "https://localhost:8080/"
        },
        "id": "uUW2jWP7tjMd",
        "outputId": "43503bc0-24de-448a-d225-e8f450a0768f"
      },
      "execution_count": 37,
      "outputs": [
        {
          "output_type": "stream",
          "name": "stdout",
          "text": [
            "[1.         0.04675573 0.02393747 0.01608667 0.01211372 0.00971451\n",
            " 0.00810856 0.00695825 0.00609377 0.00542035 0.00488096 0.00443921\n",
            " 0.00407078 0.00375882 0.00349127 0.00325928 0.0030562  0.00287694\n",
            " 0.00271754 0.00257488 0.00244645 0.00233023 0.00222454 0.00212803\n",
            " 0.00203954 0.00195812 0.00188295 0.00181334 0.00174869 0.00168849\n",
            " 0.0016323  0.00157973 0.00153044 0.00148413 0.00144054 0.00139944\n",
            " 0.00136062 0.00132389 0.0012891  0.00125609 0.00122472 0.00119489\n",
            " 0.00116647 0.00113938 0.00111351 0.00108879 0.00106515 0.00104251\n",
            " 0.00102081 0.001     ]\n"
          ]
        }
      ]
    },
    {
      "cell_type": "code",
      "source": [
        "lnS = []\n",
        "for T in temps:\n",
        "  lnS.append(-(h*c)/(l*k*T))"
      ],
      "metadata": {
        "id": "xFrL3Kw1t0tx"
      },
      "execution_count": 38,
      "outputs": []
    },
    {
      "cell_type": "code",
      "source": [
        "slope, intercept, r_value, p_value, std_err = linregress(dtemps, lnS)\n",
        "print(slope)"
      ],
      "metadata": {
        "colab": {
          "base_uri": "https://localhost:8080/"
        },
        "id": "KwPsmLQ1wPil",
        "outputId": "263cd8df-7a5d-4fc8-9407-84d475b1bec8"
      },
      "execution_count": 39,
      "outputs": [
        {
          "output_type": "stream",
          "name": "stdout",
          "text": [
            "-12519.76453921623\n"
          ]
        }
      ]
    },
    {
      "cell_type": "code",
      "source": [
        "plt.plot(dtemps,lnS, label=\"slope=\"+str(int(slope)))\n",
        "plt.title(\"1/T vs ln(S)\")\n",
        "plt.xlabel(\"1/T [1/k]\")\n",
        "plt.ylabel(\"ln(S)\")\n",
        "plt.tight_layout()\n",
        "plt.grid()\n",
        "plt.legend()"
      ],
      "metadata": {
        "colab": {
          "base_uri": "https://localhost:8080/",
          "height": 314
        },
        "id": "Ay7vc91ivKW_",
        "outputId": "bace0a97-f9a8-498f-a04e-95f6ac06a2b4"
      },
      "execution_count": 40,
      "outputs": [
        {
          "output_type": "execute_result",
          "data": {
            "text/plain": [
              "<matplotlib.legend.Legend at 0x7f133fae4d50>"
            ]
          },
          "metadata": {},
          "execution_count": 40
        },
        {
          "output_type": "display_data",
          "data": {
            "text/plain": [
              "<Figure size 432x288 with 1 Axes>"
            ],
            "image/png": "[encoded data removed]"
          },
          "metadata": {
            "needs_background": "light"
          }
        }
      ]
    },
    {
      "cell_type": "code",
      "source": [
        "T0=294.85\n",
        "R0=1.4"
      ],
      "metadata": {
        "id": "g6gU739b2qZU"
      },
      "execution_count": 41,
      "outputs": []
    },
    {
      "cell_type": "code",
      "source": [
        "l750R = [1.002/.339, 2.003/.438, 3.001/.512, 4.01/.578, 5.002/.638, 6.001/.692, 7.002/.745, 8.001/.799, 9.001/.847, 10.002/.890]\n",
        "l750T = [1/(T0*(x/R0)**(.83)) for x in l750R]\n",
        "l750i = [.0013, .0014,.0019,.0042, .0104,.0210,.370,.0609, .0889, 1.211]\n",
        "l750i = np.log(l750i)"
      ],
      "metadata": {
        "id": "hsJsPPh007zA"
      },
      "execution_count": 63,
      "outputs": []
    },
    {
      "cell_type": "code",
      "source": [
        "l850R = [1.002/.344, 2.003/.438, 3.001/.511, 4.02/.577, 5.002/.638, 6.01/.695, 7.002/.748, 8.002/.795, 9.001/.844, 10.002/.891]\n",
        "l850T = [1/(T0*(x/R0)**(.83)) for x in l850R]\n",
        "l850i = [.0015,.0016, .0033, .0092, .0221, .0418, .0690, .1031, .1434, .1916]\n",
        "l850i = np.log(l850i)"
      ],
      "metadata": {
        "id": "oHW_mCLq2zEK"
      },
      "execution_count": 65,
      "outputs": []
    },
    {
      "cell_type": "code",
      "source": [
        "l950R = []\n",
        "l950T = [1/(T0*(x/R0)**(.83)) for x in l850R]\n",
        "l950i = []\n",
        "l950i = np.log(l850i)"
      ],
      "metadata": {
        "id": "xTep2Du-6e9c"
      },
      "execution_count": null,
      "outputs": []
    },
    {
      "cell_type": "code",
      "source": [
        "plt.plot(l750T, l750i)\n",
        "plt.plot(l850T, l850i)"
      ],
      "metadata": {
        "colab": {
          "base_uri": "https://localhost:8080/",
          "height": 282
        },
        "id": "k_kUVjOW6W2V",
        "outputId": "aa63a73d-3fb7-4929-e02c-9f3e287ae7c8"
      },
      "execution_count": 66,
      "outputs": [
        {
          "output_type": "execute_result",
          "data": {
            "text/plain": [
              "[<matplotlib.lines.Line2D at 0x7f133fa14550>]"
            ]
          },
          "metadata": {},
          "execution_count": 66
        },
        {
          "output_type": "display_data",
          "data": {
            "text/plain": [
              "<Figure size 432x288 with 1 Axes>"
            ],
            "image/png": "[encoded data removed]"
          },
          "metadata": {
            "needs_background": "light"
          }
        }
      ]
    }
  ]
}