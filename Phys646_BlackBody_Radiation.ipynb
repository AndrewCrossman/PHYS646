{
  "nbformat": 4,
  "nbformat_minor": 0,
  "metadata": {
    "colab": {
      "name": "Phys646_BlackBody_Radiation.ipynb",
      "provenance": [],
      "authorship_tag": "ABX9TyOwIJJBS08dhGgObeRpZTPc",
      "include_colab_link": true
    },
    "kernelspec": {
      "name": "python3",
      "display_name": "Python 3"
    },
    "language_info": {
      "name": "python"
    }
  },
  "cells": [
    {
      "cell_type": "markdown",
      "metadata": {
        "id": "view-in-github",
        "colab_type": "text"
      },
      "source": [
        "<a href=\"https://colab.research.google.com/github/AndrewCrossman/PHYS646/blob/main/Phys646_BlackBody_Radiation.ipynb\" target=\"_parent\"><img src=\"https://colab.research.google.com/assets/colab-badge.svg\" alt=\"Open In Colab\"/></a>"
      ]
    },
    {
      "cell_type": "code",
      "execution_count": 157,
      "metadata": {
        "colab": {
          "base_uri": "https://localhost:8080/"
        },
        "id": "E7L3tS7SeBpe",
        "outputId": "dcb3f49e-e08d-4c88-f73d-5df270aee7f9"
      },
      "outputs": [
        {
          "output_type": "stream",
          "name": "stdout",
          "text": [
            "Populating the interactive namespace from numpy and matplotlib\n"
          ]
        },
        {
          "output_type": "stream",
          "name": "stderr",
          "text": [
            "/usr/local/lib/python3.7/dist-packages/IPython/core/magics/pylab.py:161: UserWarning: pylab import has clobbered these variables: ['plt']\n",
            "`%matplotlib` prevents importing * from pylab and numpy\n",
            "  \"\\n`%matplotlib` prevents importing * from pylab and numpy\"\n"
          ]
        }
      ],
      "source": [
        "import numpy as np\n",
        "import scipy as sp\n",
        "from scipy import stats\n",
        "import matplotlib.pylab as plt\n",
        "from scipy.stats import linregress\n",
        "from scipy import optimize\n",
        "from google.colab import files\n",
        "%pylab inline\n",
        "#plt.style.use(\"https://raw.githubusercontent.com/fedhere/DSPS/master/fbb.mplstyle\")"
      ]
    },
    {
      "cell_type": "code",
      "source": [
        "h = 6.62607015*10**(-34)\n",
        "c = 3*10**8\n",
        "l = 1150*10**(-9)\n",
        "k = 1.380649*10**(-23)"
      ],
      "metadata": {
        "id": "SXmdreC9uI6V"
      },
      "execution_count": 82,
      "outputs": []
    },
    {
      "cell_type": "code",
      "source": [
        "temps = np.linspace(250,1000,50)\n",
        "dtemps = 1/temps\n",
        "print(dtemps)"
      ],
      "metadata": {
        "colab": {
          "base_uri": "https://localhost:8080/"
        },
        "id": "uUW2jWP7tjMd",
        "outputId": "3f003a28-4960-4dec-b3a4-b5ffe50d6e23"
      },
      "execution_count": 83,
      "outputs": [
        {
          "output_type": "stream",
          "name": "stdout",
          "text": [
            "[0.004      0.00376923 0.00356364 0.00337931 0.00321311 0.0030625\n",
            " 0.00292537 0.0028     0.00268493 0.00257895 0.00248101 0.00239024\n",
            " 0.00230588 0.00222727 0.00215385 0.00208511 0.00202062 0.00196\n",
            " 0.00190291 0.00184906 0.00179817 0.00175    0.00170435 0.00166102\n",
            " 0.00161983 0.00158065 0.00154331 0.00150769 0.00147368 0.00144118\n",
            " 0.00141007 0.00138028 0.00135172 0.00132432 0.00129801 0.00127273\n",
            " 0.00124841 0.001225   0.00120245 0.00118072 0.00115976 0.00113953\n",
            " 0.00112    0.00110112 0.00108287 0.00106522 0.00104813 0.00103158\n",
            " 0.00101554 0.001     ]\n"
          ]
        }
      ]
    },
    {
      "cell_type": "code",
      "source": [
        "lnS = []\n",
        "for T in temps:\n",
        "  lnS.append(-(h*c)/(l*k*T))"
      ],
      "metadata": {
        "id": "xFrL3Kw1t0tx"
      },
      "execution_count": 84,
      "outputs": []
    },
    {
      "cell_type": "code",
      "source": [
        "slope, intercept, r_value, p_value, std_err = linregress(dtemps, lnS)\n",
        "print(slope)\n",
        "print(-h*c/(l*slope))"
      ],
      "metadata": {
        "colab": {
          "base_uri": "https://localhost:8080/"
        },
        "id": "KwPsmLQ1wPil",
        "outputId": "d7b2d1ce-7124-4ede-82f9-de0218009031"
      },
      "execution_count": 159,
      "outputs": [
        {
          "output_type": "stream",
          "name": "stdout",
          "text": [
            "-12519.764539216227\n",
            "1.380649e-23\n"
          ]
        }
      ]
    },
    {
      "cell_type": "code",
      "source": [
        "plt.plot(dtemps,lnS, label=\"slope=\"+str(int(slope)))\n",
        "plt.title(r'ln(S) vs 1/T with Various Filters', fontsize=16, fontweight='bold')\n",
        "plt.xlabel('1/T', fontsize=16, fontweight='bold')\n",
        "plt.ylabel(r'ln(S)', fontsize=16, fontweight='bold')\n",
        "plt.legend()\n",
        "plt.grid()\n",
        "plt.tight_layout()\n",
        "plt.legend()\n",
        "plt.savefig('1.png')\n",
        "files.download('1.png')"
      ],
      "metadata": {
        "colab": {
          "base_uri": "https://localhost:8080/",
          "height": 297
        },
        "id": "Ay7vc91ivKW_",
        "outputId": "5886b064-c2bc-4cd6-98db-ca8de1b74f2a"
      },
      "execution_count": 166,
      "outputs": [
        {
          "output_type": "display_data",
          "data": {
            "text/plain": [
              "<IPython.core.display.Javascript object>"
            ],
            "application/javascript": [
              "\n",
              "    async function download(id, filename, size) {\n",
              "      if (!google.colab.kernel.accessAllowed) {\n",
              "        return;\n",
              "      }\n",
              "      const div = document.createElement('div');\n",
              "      const label = document.createElement('label');\n",
              "      label.textContent = `Downloading \"${filename}\": `;\n",
              "      div.appendChild(label);\n",
              "      const progress = document.createElement('progress');\n",
              "      progress.max = size;\n",
              "      div.appendChild(progress);\n",
              "      document.body.appendChild(div);\n",
              "\n",
              "      const buffers = [];\n",
              "      let downloaded = 0;\n",
              "\n",
              "      const channel = await google.colab.kernel.comms.open(id);\n",
              "      // Send a message to notify the kernel that we're ready.\n",
              "      channel.send({})\n",
              "\n",
              "      for await (const message of channel.messages) {\n",
              "        // Send a message to notify the kernel that we're ready.\n",
              "        channel.send({})\n",
              "        if (message.buffers) {\n",
              "          for (const buffer of message.buffers) {\n",
              "            buffers.push(buffer);\n",
              "            downloaded += buffer.byteLength;\n",
              "            progress.value = downloaded;\n",
              "          }\n",
              "        }\n",
              "      }\n",
              "      const blob = new Blob(buffers, {type: 'application/binary'});\n",
              "      const a = document.createElement('a');\n",
              "      a.href = window.URL.createObjectURL(blob);\n",
              "      a.download = filename;\n",
              "      div.appendChild(a);\n",
              "      a.click();\n",
              "      div.remove();\n",
              "    }\n",
              "  "
            ]
          },
          "metadata": {}
        },
        {
          "output_type": "display_data",
          "data": {
            "text/plain": [
              "<IPython.core.display.Javascript object>"
            ],
            "application/javascript": [
              "download(\"download_c0f88a26-f464-413b-b298-52659c856877\", \"1.png\", 17991)"
            ]
          },
          "metadata": {}
        },
        {
          "output_type": "display_data",
          "data": {
            "text/plain": [
              "<Figure size 432x288 with 1 Axes>"
            ],
            "image/png": "[encoded data removed]"
          },
          "metadata": {
            "needs_background": "light"
          }
        }
      ]
    },
    {
      "cell_type": "markdown",
      "source": [
        "Lets plot our measured data now"
      ],
      "metadata": {
        "id": "P0RVGqwF-V9Z"
      }
    },
    {
      "cell_type": "code",
      "source": [
        "T0=294.85\n",
        "R0=1.2"
      ],
      "metadata": {
        "id": "g6gU739b2qZU"
      },
      "execution_count": 143,
      "outputs": []
    },
    {
      "cell_type": "code",
      "source": [
        "l750R = [1.002/.339, 2.003/.438, 3.001/.512, 4.01/.578, 5.002/.638, 6.001/.692, 7.002/.745, 8.001/.799, 9.001/.847, 10.002/.890]\n",
        "#1/T array below\n",
        "l750T = [1/(T0*(x/R0)**(.83)) for x in l750R]\n",
        "l750i = [.0013, .0014,.0019,.0042, .0104,.0210,.370,.0609, .0889, 1.211]\n",
        "l750i = np.log(l750i)"
      ],
      "metadata": {
        "id": "hsJsPPh007zA"
      },
      "execution_count": 144,
      "outputs": []
    },
    {
      "cell_type": "code",
      "source": [
        "l850R = [1.002/.344, 2.003/.438, 3.001/.511, 4.02/.577, 5.002/.638, 6.01/.695, 7.002/.748, 8.002/.795, 9.001/.844, 10.002/.891]\n",
        "#1/T array below\n",
        "l850T = [1/(T0*(x/R0)**(.83)) for x in l850R]\n",
        "l850i = [.0015,.0016, .0033, .0092, .0221, .0418, .0690, .1031, .1434, .1916]\n",
        "l850i = np.log(l850i)"
      ],
      "metadata": {
        "id": "oHW_mCLq2zEK"
      },
      "execution_count": 145,
      "outputs": []
    },
    {
      "cell_type": "code",
      "source": [
        "l950R = [1.002/.344, 2.003/.438, 3.001/.511, 4.002/.577, 5.02/.638, 6.001/.695, 7.002/.748, 8.002/.795, 9.001/.844, 10.002/.891]\n",
        "#1/T array below\n",
        "l950T = [1/(T0*(x/R0)**(.83)) for x in l950R]\n",
        "l950i = [.0015, .0018, .0052, .0156, .0339, .0604, .0948, .1365, .1789, .2402]\n",
        "l950i = np.log(l950i)"
      ],
      "metadata": {
        "id": "xTep2Du-6e9c"
      },
      "execution_count": 146,
      "outputs": []
    },
    {
      "cell_type": "code",
      "source": [
        "l1050R = [1.002/.333, 2.002/.433, 3.002/.506, 4.002/.577, 5.002/.637, 6.001/.694, 7.002/.750, 8.002/.8, 9.001/.848, 10.002/.894]\n",
        "#1/T array below\n",
        "l1050T = [1/(T0*(x/R0)**(.83)) for x in l1050R]\n",
        "l1050i = [.0015, .0019, .0048, .0129, .0269, .0461, .0712, .0999, .1317, .1664]\n",
        "l1050i = np.log(l1050i)"
      ],
      "metadata": {
        "id": "mK-Xhu4b-n2q"
      },
      "execution_count": 147,
      "outputs": []
    },
    {
      "cell_type": "code",
      "source": [
        "l1050R = [1.002/.333, 2.002/.433, 3.002/.506, 4.002/.577, 5.002/.637, 6.001/.694, 7.002/.750, 8.002/.8, 9.001/.848, 10.002/.894]\n",
        "#1/T array below\n",
        "l1050T = [1/(T0*(x/R0)**(.83)) for x in l1050R]\n",
        "l1050i = [.0015, .0019, .0048, .0129, .0269, .0461, .0712, .0999, .1317, .1664]\n",
        "l1050i = np.log(l1050i)"
      ],
      "metadata": {
        "id": "uoaGKR1U_WLo"
      },
      "execution_count": 148,
      "outputs": []
    },
    {
      "cell_type": "code",
      "source": [
        "l1150R = [1.002/.343, 2.002/.438, 3.002/.511, 4.002/.577, 5.002/.639, 6.001/.696, 7.002/.749, 8.002/.798, 9.001/.846, 10.002/.892]\n",
        "#1/T array below\n",
        "l1150T = [1/(T0*(x/R0)**(.83)) for x in l1150R]\n",
        "l1150i = [.0013, .0013, .0016, .0020, .0026, .0034, .0046, .0058, .0071, .0086]\n",
        "l1150i = np.log(l1150i)"
      ],
      "metadata": {
        "id": "ztnbExHW_ch5"
      },
      "execution_count": 149,
      "outputs": []
    },
    {
      "cell_type": "code",
      "source": [
        "res1 = stats.linregress(l750T, l750i)\n",
        "res2 = stats.linregress(l850T, l850i)\n",
        "res3 = stats.linregress(l950T, l950i)\n",
        "res4 = stats.linregress(l1050T, l1050i)\n",
        "res5 = stats.linregress(l1150T, l1150i)\n",
        "print(-h*c/(750*10**(-9)*res1.slope))\n",
        "print(-h*c/(850*10**(-9)*res1.slope))\n",
        "print(-h*c/(950*10**(-9)*res1.slope))\n",
        "print(-h*c/(1050*10**(-9)*res1.slope))\n",
        "print(-h*c/(1150*10**(-9)*res1.slope))"
      ],
      "metadata": {
        "colab": {
          "base_uri": "https://localhost:8080/"
        },
        "id": "rTpsgahXEhL7",
        "outputId": "f274f676-9a6c-4e42-8c0d-faa9655de190"
      },
      "execution_count": 150,
      "outputs": [
        {
          "output_type": "stream",
          "name": "stdout",
          "text": [
            "4.8377394101870753e-23\n",
            "4.268593597223891e-23\n",
            "3.819267955410849e-23\n",
            "3.455528150133625e-23\n",
            "3.155047441426354e-23\n"
          ]
        }
      ]
    },
    {
      "cell_type": "code",
      "source": [
        "fig, ax = plt.subplots(figsize=(6,4)) \n",
        "ax.scatter(l750T, l750i, label='750nm', color='b', alpha=.75)\n",
        "ax.plot(l750T, res1.intercept + res1.slope*np.asarray(l750T), color='b')\n",
        "ax.scatter(l850T, l850i, label='850nm', color='c', alpha=.75)\n",
        "ax.plot(l850T, res2.intercept + res2.slope*np.asarray(l850T), color='c')\n",
        "ax.scatter(l950T, l950i, label='950nm', color='r', alpha=.75)\n",
        "ax.plot(l950T, res3.intercept + res3.slope*np.asarray(l950T), color='r')\n",
        "ax.scatter(l1050T, l1050i, label='1050nm', color='k', alpha=.75)\n",
        "ax.plot(l1050T, res4.intercept + res4.slope*np.asarray(l1050T), color='k')\n",
        "ax.scatter(l1150T, l1150i, label='1150nm', color='g', alpha=.75)\n",
        "ax.plot(l1150T, res5.intercept + res5.slope*np.asarray(l1150T), color='g')\n",
        "ax.set_title(r'ln(S) vs 1/T with Various Filters', fontsize=16, fontweight='bold')\n",
        "ax.set_xlabel('1/T', fontsize=16, fontweight='bold')\n",
        "ax.set_ylabel(r'ln(S)', fontsize=16, fontweight='bold')\n",
        "ax.legend()\n",
        "ax.grid()\n",
        "plt.tight_layout()\n",
        "plt.savefig(\"test.png\")\n",
        "files.download('test.png')"
      ],
      "metadata": {
        "colab": {
          "base_uri": "https://localhost:8080/",
          "height": 297
        },
        "id": "k_kUVjOW6W2V",
        "outputId": "fafe7067-5c9b-4f77-a7ce-7e4e19df6ddf"
      },
      "execution_count": 165,
      "outputs": [
        {
          "output_type": "display_data",
          "data": {
            "text/plain": [
              "<IPython.core.display.Javascript object>"
            ],
            "application/javascript": [
              "\n",
              "    async function download(id, filename, size) {\n",
              "      if (!google.colab.kernel.accessAllowed) {\n",
              "        return;\n",
              "      }\n",
              "      const div = document.createElement('div');\n",
              "      const label = document.createElement('label');\n",
              "      label.textContent = `Downloading \"${filename}\": `;\n",
              "      div.appendChild(label);\n",
              "      const progress = document.createElement('progress');\n",
              "      progress.max = size;\n",
              "      div.appendChild(progress);\n",
              "      document.body.appendChild(div);\n",
              "\n",
              "      const buffers = [];\n",
              "      let downloaded = 0;\n",
              "\n",
              "      const channel = await google.colab.kernel.comms.open(id);\n",
              "      // Send a message to notify the kernel that we're ready.\n",
              "      channel.send({})\n",
              "\n",
              "      for await (const message of channel.messages) {\n",
              "        // Send a message to notify the kernel that we're ready.\n",
              "        channel.send({})\n",
              "        if (message.buffers) {\n",
              "          for (const buffer of message.buffers) {\n",
              "            buffers.push(buffer);\n",
              "            downloaded += buffer.byteLength;\n",
              "            progress.value = downloaded;\n",
              "          }\n",
              "        }\n",
              "      }\n",
              "      const blob = new Blob(buffers, {type: 'application/binary'});\n",
              "      const a = document.createElement('a');\n",
              "      a.href = window.URL.createObjectURL(blob);\n",
              "      a.download = filename;\n",
              "      div.appendChild(a);\n",
              "      a.click();\n",
              "      div.remove();\n",
              "    }\n",
              "  "
            ]
          },
          "metadata": {}
        },
        {
          "output_type": "display_data",
          "data": {
            "text/plain": [
              "<IPython.core.display.Javascript object>"
            ],
            "application/javascript": [
              "download(\"download_8faabca2-49d9-4766-a18f-b3e2b89bb40f\", \"test.png\", 30049)"
            ]
          },
          "metadata": {}
        },
        {
          "output_type": "display_data",
          "data": {
            "text/plain": [
              "<Figure size 432x288 with 1 Axes>"
            ],
            "image/png": "[encoded data removed]"
          },
          "metadata": {
            "needs_background": "light"
          }
        }
      ]
    }
  ]
}