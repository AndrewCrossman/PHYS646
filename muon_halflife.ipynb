{
  "nbformat": 4,
  "nbformat_minor": 0,
  "metadata": {
    "colab": {
      "name": "muon_halflife.ipynb",
      "provenance": [],
      "authorship_tag": "ABX9TyO+EVrlyn7JHwIxPm7UBiQ2",
      "include_colab_link": true
    },
    "kernelspec": {
      "name": "python3",
      "display_name": "Python 3"
    },
    "language_info": {
      "name": "python"
    }
  },
  "cells": [
    {
      "cell_type": "markdown",
      "metadata": {
        "id": "view-in-github",
        "colab_type": "text"
      },
      "source": [
        "<a href=\"https://colab.research.google.com/github/AndrewCrossman/PHYS646/blob/main/muon_halflife.ipynb\" target=\"_parent\"><img src=\"https://colab.research.google.com/assets/colab-badge.svg\" alt=\"Open In Colab\"/></a>"
      ]
    },
    {
      "cell_type": "code",
      "execution_count": 183,
      "metadata": {
        "colab": {
          "base_uri": "https://localhost:8080/"
        },
        "id": "zk9QCr6jvV3X",
        "outputId": "11f9a938-f5e0-442a-86d6-3e663202684a"
      },
      "outputs": [
        {
          "output_type": "stream",
          "name": "stdout",
          "text": [
            "Populating the interactive namespace from numpy and matplotlib\n"
          ]
        },
        {
          "output_type": "stream",
          "name": "stderr",
          "text": [
            "/usr/local/lib/python3.7/dist-packages/IPython/core/magics/pylab.py:161: UserWarning: pylab import has clobbered these variables: ['plt']\n",
            "`%matplotlib` prevents importing * from pylab and numpy\n",
            "  \"\\n`%matplotlib` prevents importing * from pylab and numpy\"\n"
          ]
        }
      ],
      "source": [
        "import numpy as np\n",
        "import scipy as sp\n",
        "import pandas as pd\n",
        "from scipy import stats\n",
        "import matplotlib.pylab as plt\n",
        "from scipy.stats import linregress\n",
        "from scipy import optimize\n",
        "from google.colab import files\n",
        "%pylab inline\n",
        "#plt.style.use(\"https://raw.githubusercontent.com/fedhere/DSPS/master/fbb.mplstyle\")"
      ]
    },
    {
      "cell_type": "markdown",
      "source": [
        "Extract Data from File"
      ],
      "metadata": {
        "id": "Tbi5-cOZ1jaW"
      }
    },
    {
      "cell_type": "code",
      "source": [
        "file = \"https://raw.githubusercontent.com/AndrewCrossman/PHYS646/main/andrew_data_cut.mca\"\n",
        "data = pd.read_csv(file)"
      ],
      "metadata": {
        "id": "HKHpRcvFxJak"
      },
      "execution_count": 184,
      "outputs": []
    },
    {
      "cell_type": "code",
      "source": [
        "def func1(x,a,b):\n",
        "  return a*x+b"
      ],
      "metadata": {
        "id": "kM3HsEvt7uOR"
      },
      "execution_count": 185,
      "outputs": []
    },
    {
      "cell_type": "code",
      "source": [
        "def func2(x, a, b, c):\n",
        "    return a * np.exp(-b * x) + c"
      ],
      "metadata": {
        "id": "yw9SmqvI7ryP"
      },
      "execution_count": 186,
      "outputs": []
    },
    {
      "cell_type": "markdown",
      "source": [
        "Extract Dependent Variable Values (Counts)"
      ],
      "metadata": {
        "id": "lE1557z31pHP"
      }
    },
    {
      "cell_type": "code",
      "source": [
        "data[\"Count\"] = data[\"Count\"].astype(float)\n",
        "data_ar = data[\"Count\"].to_numpy()\n",
        "y = data_ar"
      ],
      "metadata": {
        "id": "zKfd-3S4xMBT"
      },
      "execution_count": 187,
      "outputs": []
    },
    {
      "cell_type": "code",
      "source": [
        "data"
      ],
      "metadata": {
        "colab": {
          "base_uri": "https://localhost:8080/",
          "height": 424
        },
        "id": "zQpMWXHV5iJ1",
        "outputId": "9685852f-5e92-4a2a-fcb0-f2fdb8418fb1"
      },
      "execution_count": 188,
      "outputs": [
        {
          "output_type": "execute_result",
          "data": {
            "text/plain": [
              "      Count\n",
              "0       0.0\n",
              "1       0.0\n",
              "2       0.0\n",
              "3       0.0\n",
              "4       0.0\n",
              "...     ...\n",
              "1019   42.0\n",
              "1020   33.0\n",
              "1021   54.0\n",
              "1022   44.0\n",
              "1023   42.0\n",
              "\n",
              "[1024 rows x 1 columns]"
            ],
            "text/html": [
              "\n",
              "  <div id=\"df-7877b675-7c4d-48ba-b53b-bb83524bcbc8\">\n",
              "    <div class=\"colab-df-container\">\n",
              "      <div>\n",
              "<style scoped>\n",
              "    .dataframe tbody tr th:only-of-type {\n",
              "        vertical-align: middle;\n",
              "    }\n",
              "\n",
              "    .dataframe tbody tr th {\n",
              "        vertical-align: top;\n",
              "    }\n",
              "\n",
              "    .dataframe thead th {\n",
              "        text-align: right;\n",
              "    }\n",
              "</style>\n",
              "<table border=\"1\" class=\"dataframe\">\n",
              "  <thead>\n",
              "    <tr style=\"text-align: right;\">\n",
              "      <th></th>\n",
              "      <th>Count</th>\n",
              "    </tr>\n",
              "  </thead>\n",
              "  <tbody>\n",
              "    <tr>\n",
              "      <th>0</th>\n",
              "      <td>0.0</td>\n",
              "    </tr>\n",
              "    <tr>\n",
              "      <th>1</th>\n",
              "      <td>0.0</td>\n",
              "    </tr>\n",
              "    <tr>\n",
              "      <th>2</th>\n",
              "      <td>0.0</td>\n",
              "    </tr>\n",
              "    <tr>\n",
              "      <th>3</th>\n",
              "      <td>0.0</td>\n",
              "    </tr>\n",
              "    <tr>\n",
              "      <th>4</th>\n",
              "      <td>0.0</td>\n",
              "    </tr>\n",
              "    <tr>\n",
              "      <th>...</th>\n",
              "      <td>...</td>\n",
              "    </tr>\n",
              "    <tr>\n",
              "      <th>1019</th>\n",
              "      <td>42.0</td>\n",
              "    </tr>\n",
              "    <tr>\n",
              "      <th>1020</th>\n",
              "      <td>33.0</td>\n",
              "    </tr>\n",
              "    <tr>\n",
              "      <th>1021</th>\n",
              "      <td>54.0</td>\n",
              "    </tr>\n",
              "    <tr>\n",
              "      <th>1022</th>\n",
              "      <td>44.0</td>\n",
              "    </tr>\n",
              "    <tr>\n",
              "      <th>1023</th>\n",
              "      <td>42.0</td>\n",
              "    </tr>\n",
              "  </tbody>\n",
              "</table>\n",
              "<p>1024 rows × 1 columns</p>\n",
              "</div>\n",
              "      <button class=\"colab-df-convert\" onclick=\"convertToInteractive('df-7877b675-7c4d-48ba-b53b-bb83524bcbc8')\"\n",
              "              title=\"Convert this dataframe to an interactive table.\"\n",
              "              style=\"display:none;\">\n",
              "        \n",
              "  <svg xmlns=\"http://www.w3.org/2000/svg\" height=\"24px\"viewBox=\"0 0 24 24\"\n",
              "       width=\"24px\">\n",
              "    <path d=\"M0 0h24v24H0V0z\" fill=\"none\"/>\n",
              "    <path d=\"M18.56 5.44l.94 2.06.94-2.06 2.06-.94-2.06-.94-.94-2.06-.94 2.06-2.06.94zm-11 1L8.5 8.5l.94-2.06 2.06-.94-2.06-.94L8.5 2.5l-.94 2.06-2.06.94zm10 10l.94 2.06.94-2.06 2.06-.94-2.06-.94-.94-2.06-.94 2.06-2.06.94z\"/><path d=\"M17.41 7.96l-1.37-1.37c-.4-.4-.92-.59-1.43-.59-.52 0-1.04.2-1.43.59L10.3 9.45l-7.72 7.72c-.78.78-.78 2.05 0 2.83L4 21.41c.39.39.9.59 1.41.59.51 0 1.02-.2 1.41-.59l7.78-7.78 2.81-2.81c.8-.78.8-2.07 0-2.86zM5.41 20L4 18.59l7.72-7.72 1.47 1.35L5.41 20z\"/>\n",
              "  </svg>\n",
              "      </button>\n",
              "      \n",
              "  <style>\n",
              "    .colab-df-container {\n",
              "      display:flex;\n",
              "      flex-wrap:wrap;\n",
              "      gap: 12px;\n",
              "    }\n",
              "\n",
              "    .colab-df-convert {\n",
              "      background-color: #E8F0FE;\n",
              "      border: none;\n",
              "      border-radius: 50%;\n",
              "      cursor: pointer;\n",
              "      display: none;\n",
              "      fill: #1967D2;\n",
              "      height: 32px;\n",
              "      padding: 0 0 0 0;\n",
              "      width: 32px;\n",
              "    }\n",
              "\n",
              "    .colab-df-convert:hover {\n",
              "      background-color: #E2EBFA;\n",
              "      box-shadow: 0px 1px 2px rgba(60, 64, 67, 0.3), 0px 1px 3px 1px rgba(60, 64, 67, 0.15);\n",
              "      fill: #174EA6;\n",
              "    }\n",
              "\n",
              "    [theme=dark] .colab-df-convert {\n",
              "      background-color: #3B4455;\n",
              "      fill: #D2E3FC;\n",
              "    }\n",
              "\n",
              "    [theme=dark] .colab-df-convert:hover {\n",
              "      background-color: #434B5C;\n",
              "      box-shadow: 0px 1px 3px 1px rgba(0, 0, 0, 0.15);\n",
              "      filter: drop-shadow(0px 1px 2px rgba(0, 0, 0, 0.3));\n",
              "      fill: #FFFFFF;\n",
              "    }\n",
              "  </style>\n",
              "\n",
              "      <script>\n",
              "        const buttonEl =\n",
              "          document.querySelector('#df-7877b675-7c4d-48ba-b53b-bb83524bcbc8 button.colab-df-convert');\n",
              "        buttonEl.style.display =\n",
              "          google.colab.kernel.accessAllowed ? 'block' : 'none';\n",
              "\n",
              "        async function convertToInteractive(key) {\n",
              "          const element = document.querySelector('#df-7877b675-7c4d-48ba-b53b-bb83524bcbc8');\n",
              "          const dataTable =\n",
              "            await google.colab.kernel.invokeFunction('convertToInteractive',\n",
              "                                                     [key], {});\n",
              "          if (!dataTable) return;\n",
              "\n",
              "          const docLinkHtml = 'Like what you see? Visit the ' +\n",
              "            '<a target=\"_blank\" href=https://colab.research.google.com/notebooks/data_table.ipynb>data table notebook</a>'\n",
              "            + ' to learn more about interactive tables.';\n",
              "          element.innerHTML = '';\n",
              "          dataTable['output_type'] = 'display_data';\n",
              "          await google.colab.output.renderOutput(dataTable, element);\n",
              "          const docLink = document.createElement('div');\n",
              "          docLink.innerHTML = docLinkHtml;\n",
              "          element.appendChild(docLink);\n",
              "        }\n",
              "      </script>\n",
              "    </div>\n",
              "  </div>\n",
              "  "
            ]
          },
          "metadata": {},
          "execution_count": 188
        }
      ]
    },
    {
      "cell_type": "code",
      "source": [
        "print(y)"
      ],
      "metadata": {
        "colab": {
          "base_uri": "https://localhost:8080/"
        },
        "id": "Am1TghDa0x8b",
        "outputId": "5b890978-c953-4064-cda1-17ebb183c0fe"
      },
      "execution_count": 189,
      "outputs": [
        {
          "output_type": "stream",
          "name": "stdout",
          "text": [
            "[ 0.  0.  0. ... 54. 44. 42.]\n"
          ]
        }
      ]
    },
    {
      "cell_type": "markdown",
      "source": [
        "Extract Independent Variable Values (Convert Channels to Times)"
      ],
      "metadata": {
        "id": "hlqb67zc1vBh"
      }
    },
    {
      "cell_type": "code",
      "source": [
        "x = np.linspace(1,1024,1024)\n",
        "x"
      ],
      "metadata": {
        "colab": {
          "base_uri": "https://localhost:8080/"
        },
        "id": "JS6JjqM-1uxb",
        "outputId": "da079c6c-a8df-4533-ff0e-446ff030e994"
      },
      "execution_count": 190,
      "outputs": [
        {
          "output_type": "execute_result",
          "data": {
            "text/plain": [
              "array([1.000e+00, 2.000e+00, 3.000e+00, ..., 1.022e+03, 1.023e+03,\n",
              "       1.024e+03])"
            ]
          },
          "metadata": {},
          "execution_count": 190
        }
      ]
    },
    {
      "cell_type": "code",
      "source": [
        "#Channel Number vs Time\n",
        "x1 = [135, 218, 280, 394, 491, 632, 734, 797, 881, 966]\n",
        "y1 = [2.690, 4.130, 5.250, 7.570, 9.330, 12.05, 13.97, 15.17, 16.85, 18.37]\n",
        "y1err = [.0005 for x in y1]"
      ],
      "metadata": {
        "id": "83b9k6jE72_5"
      },
      "execution_count": 191,
      "outputs": []
    },
    {
      "cell_type": "code",
      "source": [
        "popt1, pcov1 = optimize.curve_fit(func1,x1,y1)"
      ],
      "metadata": {
        "id": "O6p3Mthi78Bd"
      },
      "execution_count": 192,
      "outputs": []
    },
    {
      "cell_type": "code",
      "source": [
        "print(popt1)\n",
        "print(pcov1)"
      ],
      "metadata": {
        "colab": {
          "base_uri": "https://localhost:8080/"
        },
        "id": "soNH_WjF8GhV",
        "outputId": "1cc76ffa-26cf-4097-a633-387862408082"
      },
      "execution_count": 193,
      "outputs": [
        {
          "output_type": "stream",
          "name": "stdout",
          "text": [
            "[0.01901929 0.024139  ]\n",
            "[[ 5.04639218e-09 -2.78964410e-06]\n",
            " [-2.78964410e-06  1.92931587e-03]]\n"
          ]
        }
      ]
    },
    {
      "cell_type": "code",
      "source": [
        "((5.04639218*10**-9)**2+(1.92931587*10**-3)**2)**(1/2)"
      ],
      "metadata": {
        "colab": {
          "base_uri": "https://localhost:8080/"
        },
        "id": "3tyJVQgJGZPR",
        "outputId": "28c38d9c-7261-4c41-e46a-796629323608"
      },
      "execution_count": 200,
      "outputs": [
        {
          "output_type": "execute_result",
          "data": {
            "text/plain": [
              "0.0019293158700065998"
            ]
          },
          "metadata": {},
          "execution_count": 200
        }
      ]
    },
    {
      "cell_type": "code",
      "source": [
        "x1 = [135, 218, 280, 394, 491, 632, 734, 797, 881, 966]\n",
        "y1 = [2.690, 4.130, 5.250, 7.570, 9.330, 12.05, 13.97, 15.17, 16.85, 18.37]\n",
        "y1err = [.0005 for x in y1]\n",
        "fig, ax = plt.subplots(figsize=(6,4))\n",
        "ax.plot(x,func1(x,*popt1), \"--r\", label=\"{0:.3f}*x + {1:.3f}\".format(popt1[0],popt1[1]))\n",
        "ax.errorbar(x1,y1, yerr=y1err, fmt=\".k\", label=\"data\")\n",
        "ax.set_title(r'Channel Number vs Time', fontsize=16, fontweight='bold')\n",
        "ax.set_xlabel(r'Channel number', fontsize=16, fontweight='bold')\n",
        "ax.set_ylabel(r'Time [$\\mu$s]', fontsize=16, fontweight='bold')\n",
        "ax.set_ylim(0,20)\n",
        "ax.legend()\n",
        "ax.grid()\n",
        "plt.tight_layout()\n",
        "#plt.savefig('channel_time.png')\n",
        "#files.download('channel_time.png')\n",
        "print(r'The plot below tells us that each channel is worth 0.01901929 $\\pm$ 5.04639218e-09 + 0.024139 $\\pm$ 1.92931587e-03')\n",
        "print(\"The error in time for the fit is .0019 us\")"
      ],
      "metadata": {
        "colab": {
          "base_uri": "https://localhost:8080/",
          "height": 314
        },
        "id": "LlSwgzfX4Hkj",
        "outputId": "ae51919b-5756-46d5-e39a-1dd19f190bb0"
      },
      "execution_count": 194,
      "outputs": [
        {
          "output_type": "display_data",
          "data": {
            "text/plain": [
              "<IPython.core.display.Javascript object>"
            ],
            "application/javascript": [
              "\n",
              "    async function download(id, filename, size) {\n",
              "      if (!google.colab.kernel.accessAllowed) {\n",
              "        return;\n",
              "      }\n",
              "      const div = document.createElement('div');\n",
              "      const label = document.createElement('label');\n",
              "      label.textContent = `Downloading \"${filename}\": `;\n",
              "      div.appendChild(label);\n",
              "      const progress = document.createElement('progress');\n",
              "      progress.max = size;\n",
              "      div.appendChild(progress);\n",
              "      document.body.appendChild(div);\n",
              "\n",
              "      const buffers = [];\n",
              "      let downloaded = 0;\n",
              "\n",
              "      const channel = await google.colab.kernel.comms.open(id);\n",
              "      // Send a message to notify the kernel that we're ready.\n",
              "      channel.send({})\n",
              "\n",
              "      for await (const message of channel.messages) {\n",
              "        // Send a message to notify the kernel that we're ready.\n",
              "        channel.send({})\n",
              "        if (message.buffers) {\n",
              "          for (const buffer of message.buffers) {\n",
              "            buffers.push(buffer);\n",
              "            downloaded += buffer.byteLength;\n",
              "            progress.value = downloaded;\n",
              "          }\n",
              "        }\n",
              "      }\n",
              "      const blob = new Blob(buffers, {type: 'application/binary'});\n",
              "      const a = document.createElement('a');\n",
              "      a.href = window.URL.createObjectURL(blob);\n",
              "      a.download = filename;\n",
              "      div.appendChild(a);\n",
              "      a.click();\n",
              "      div.remove();\n",
              "    }\n",
              "  "
            ]
          },
          "metadata": {}
        },
        {
          "output_type": "display_data",
          "data": {
            "text/plain": [
              "<IPython.core.display.Javascript object>"
            ],
            "application/javascript": [
              "download(\"download_231ecfb1-a8f7-4026-ae97-bf929b8815d2\", \"channel_time.png\", 18729)"
            ]
          },
          "metadata": {}
        },
        {
          "output_type": "stream",
          "name": "stdout",
          "text": [
            "The plot below tells us that each channel is worth 0.01901929 $\\pm$ 5.04639218e-09 + 0.024139 $\\pm$ 1.92931587e-03\n"
          ]
        },
        {
          "output_type": "display_data",
          "data": {
            "text/plain": [
              "<Figure size 432x288 with 1 Axes>"
            ],
            "image/png": "[encoded data removed]"
          },
          "metadata": {
            "needs_background": "light"
          }
        }
      ]
    },
    {
      "cell_type": "markdown",
      "source": [
        ""
      ],
      "metadata": {
        "id": "DWoD7NEw9n1H"
      }
    },
    {
      "cell_type": "code",
      "source": [
        "# cut the data to help the fit\n",
        "x = [popt1[0]*i+popt1[1] for i in x]\n",
        "x = x[11:]\n",
        "y = y[11:]"
      ],
      "metadata": {
        "id": "pBK1fs1L5TIr"
      },
      "execution_count": 195,
      "outputs": []
    },
    {
      "cell_type": "code",
      "source": [
        "popt, pcov = optimize.curve_fit(func2,x,y)\n",
        "print(popt)\n",
        "print(pcov)"
      ],
      "metadata": {
        "colab": {
          "base_uri": "https://localhost:8080/"
        },
        "id": "nTp7dwfry8vI",
        "outputId": "d88d0211-a7d4-4abb-cf95-270c80f0f8cf"
      },
      "execution_count": 196,
      "outputs": [
        {
          "output_type": "stream",
          "name": "stdout",
          "text": [
            "[8.98541971e+02 4.71588902e-01 4.31061272e+01]\n",
            "[[8.17624798e+00 4.46904024e-03 1.28107812e-01]\n",
            " [4.46904024e-03 4.95096827e-06 5.92274227e-04]\n",
            " [1.28107812e-01 5.92274227e-04 2.52132924e-01]]\n"
          ]
        },
        {
          "output_type": "stream",
          "name": "stderr",
          "text": [
            "/usr/local/lib/python3.7/dist-packages/ipykernel_launcher.py:2: RuntimeWarning: overflow encountered in exp\n",
            "  \n",
            "/usr/local/lib/python3.7/dist-packages/ipykernel_launcher.py:2: RuntimeWarning: overflow encountered in multiply\n",
            "  \n"
          ]
        }
      ]
    },
    {
      "cell_type": "code",
      "source": [
        "y3 = [popt[0]*np.exp(-i*popt[1])+popt[2] for i in x]"
      ],
      "metadata": {
        "id": "yaP8aLWw-3Ii"
      },
      "execution_count": 197,
      "outputs": []
    },
    {
      "cell_type": "code",
      "source": [
        "fig1, ax1 = plt.subplots(figsize=(6,4))\n",
        "ax1.errorbar(x,y, fmt=\".k\", label=\"data\", alpha=.5,zorder=0)\n",
        "ax1.plot(x,y3, \"--r\", label=r'{0:.3f}*e^(-{1:.3f}x)+{2:.3f}'.format(popt[0],popt[1],popt[2]),zorder=1)\n",
        "ax1.axhline(413.5,linestyle='dashed',color=\"b\", zorder=0, label=r'Half-Life:1.879[$\\mu$ s]')\n",
        "ax1.vlines(2.056,0,875, linestyle='dashed',color=\"b\",zorder=0)\n",
        "ax1.set_title(r'Counts vs Time', fontsize=16, fontweight='bold')\n",
        "ax1.set_xlabel(r'Time [$\\mu$s]', fontsize=16, fontweight='bold')\n",
        "ax1.set_ylabel(r'Counts', fontsize=16, fontweight='bold')\n",
        "ax1.set_ylim(0,875)\n",
        "ax1.legend()\n",
        "ax1.grid()\n",
        "plt.tight_layout()\n",
        "plt.savefig('HL_with_falsedoubles.png')\n",
        "files.download('HL_with_falsedoubles.png')"
      ],
      "metadata": {
        "colab": {
          "base_uri": "https://localhost:8080/",
          "height": 297
        },
        "id": "BXyyw_W36PuA",
        "outputId": "43a3cfeb-ecfe-4b76-957a-507307295bfe"
      },
      "execution_count": 199,
      "outputs": [
        {
          "output_type": "display_data",
          "data": {
            "text/plain": [
              "<IPython.core.display.Javascript object>"
            ],
            "application/javascript": [
              "\n",
              "    async function download(id, filename, size) {\n",
              "      if (!google.colab.kernel.accessAllowed) {\n",
              "        return;\n",
              "      }\n",
              "      const div = document.createElement('div');\n",
              "      const label = document.createElement('label');\n",
              "      label.textContent = `Downloading \"${filename}\": `;\n",
              "      div.appendChild(label);\n",
              "      const progress = document.createElement('progress');\n",
              "      progress.max = size;\n",
              "      div.appendChild(progress);\n",
              "      document.body.appendChild(div);\n",
              "\n",
              "      const buffers = [];\n",
              "      let downloaded = 0;\n",
              "\n",
              "      const channel = await google.colab.kernel.comms.open(id);\n",
              "      // Send a message to notify the kernel that we're ready.\n",
              "      channel.send({})\n",
              "\n",
              "      for await (const message of channel.messages) {\n",
              "        // Send a message to notify the kernel that we're ready.\n",
              "        channel.send({})\n",
              "        if (message.buffers) {\n",
              "          for (const buffer of message.buffers) {\n",
              "            buffers.push(buffer);\n",
              "            downloaded += buffer.byteLength;\n",
              "            progress.value = downloaded;\n",
              "          }\n",
              "        }\n",
              "      }\n",
              "      const blob = new Blob(buffers, {type: 'application/binary'});\n",
              "      const a = document.createElement('a');\n",
              "      a.href = window.URL.createObjectURL(blob);\n",
              "      a.download = filename;\n",
              "      div.appendChild(a);\n",
              "      a.click();\n",
              "      div.remove();\n",
              "    }\n",
              "  "
            ]
          },
          "metadata": {}
        },
        {
          "output_type": "display_data",
          "data": {
            "text/plain": [
              "<IPython.core.display.Javascript object>"
            ],
            "application/javascript": [
              "download(\"download_c95ed5f9-f6a4-4ec3-ab80-752f8f10cc32\", \"HL_with_falsedoubles.png\", 30183)"
            ]
          },
          "metadata": {}
        },
        {
          "output_type": "display_data",
          "data": {
            "text/plain": [
              "<Figure size 432x288 with 1 Axes>"
            ],
            "image/png": "[encoded data removed]"
          },
          "metadata": {
            "needs_background": "light"
          }
        }
      ]
    }
  ]
}