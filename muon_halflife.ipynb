{
  "nbformat": 4,
  "nbformat_minor": 0,
  "metadata": {
    "colab": {
      "name": "muon_halflife.ipynb",
      "provenance": [],
      "authorship_tag": "ABX9TyM/hzhM1VvF1Sq2vVR3mw4v",
      "include_colab_link": true
    },
    "kernelspec": {
      "name": "python3",
      "display_name": "Python 3"
    },
    "language_info": {
      "name": "python"
    }
  },
  "cells": [
    {
      "cell_type": "markdown",
      "metadata": {
        "id": "view-in-github",
        "colab_type": "text"
      },
      "source": [
        "<a href=\"https://colab.research.google.com/github/AndrewCrossman/PHYS646/blob/main/muon_halflife.ipynb\" target=\"_parent\"><img src=\"https://colab.research.google.com/assets/colab-badge.svg\" alt=\"Open In Colab\"/></a>"
      ]
    },
    {
      "cell_type": "code",
      "execution_count": 24,
      "metadata": {
        "colab": {
          "base_uri": "https://localhost:8080/"
        },
        "id": "zk9QCr6jvV3X",
        "outputId": "fabdaf84-354d-44de-db3c-ac89a9702507"
      },
      "outputs": [
        {
          "output_type": "stream",
          "name": "stdout",
          "text": [
            "Populating the interactive namespace from numpy and matplotlib\n"
          ]
        },
        {
          "output_type": "stream",
          "name": "stderr",
          "text": [
            "/usr/local/lib/python3.7/dist-packages/IPython/core/magics/pylab.py:161: UserWarning: pylab import has clobbered these variables: ['plt']\n",
            "`%matplotlib` prevents importing * from pylab and numpy\n",
            "  \"\\n`%matplotlib` prevents importing * from pylab and numpy\"\n"
          ]
        }
      ],
      "source": [
        "import numpy as np\n",
        "import scipy as sp\n",
        "import pandas as pd\n",
        "from scipy import stats\n",
        "import matplotlib.pylab as plt\n",
        "from scipy.stats import linregress\n",
        "from scipy import optimize\n",
        "from google.colab import files\n",
        "%pylab inline\n",
        "#plt.style.use(\"https://raw.githubusercontent.com/fedhere/DSPS/master/fbb.mplstyle\")"
      ]
    },
    {
      "cell_type": "markdown",
      "source": [
        "Extract Data from File"
      ],
      "metadata": {
        "id": "Tbi5-cOZ1jaW"
      }
    },
    {
      "cell_type": "code",
      "source": [
        "file = \"https://raw.githubusercontent.com/AndrewCrossman/PHYS646/main/andrew_data_cut.mca\"\n",
        "data = pd.read_csv(file)"
      ],
      "metadata": {
        "id": "HKHpRcvFxJak"
      },
      "execution_count": 25,
      "outputs": []
    },
    {
      "cell_type": "code",
      "source": [
        "def func1(x,a,b):\n",
        "  return a*x+b"
      ],
      "metadata": {
        "id": "kM3HsEvt7uOR"
      },
      "execution_count": 26,
      "outputs": []
    },
    {
      "cell_type": "code",
      "source": [
        "def func2(x, a, b, c):\n",
        "    return a * np.exp(-b * x) + c"
      ],
      "metadata": {
        "id": "yw9SmqvI7ryP"
      },
      "execution_count": 27,
      "outputs": []
    },
    {
      "cell_type": "markdown",
      "source": [
        "Extract Dependent Variable Values (Counts)"
      ],
      "metadata": {
        "id": "lE1557z31pHP"
      }
    },
    {
      "cell_type": "code",
      "source": [
        "data[\"Count\"] = data[\"Count\"].astype(float)\n",
        "data_ar = data[\"Count\"].to_numpy()\n",
        "y = data_ar"
      ],
      "metadata": {
        "id": "zKfd-3S4xMBT"
      },
      "execution_count": 28,
      "outputs": []
    },
    {
      "cell_type": "code",
      "source": [
        "data"
      ],
      "metadata": {
        "colab": {
          "base_uri": "https://localhost:8080/",
          "height": 424
        },
        "id": "zQpMWXHV5iJ1",
        "outputId": "d345ff64-9d70-47b1-dd8c-0f3332ee4f2d"
      },
      "execution_count": 29,
      "outputs": [
        {
          "output_type": "execute_result",
          "data": {
            "text/plain": [
              "      Count\n",
              "0       0.0\n",
              "1       0.0\n",
              "2       0.0\n",
              "3       0.0\n",
              "4       0.0\n",
              "...     ...\n",
              "1019   42.0\n",
              "1020   33.0\n",
              "1021   54.0\n",
              "1022   44.0\n",
              "1023   42.0\n",
              "\n",
              "[1024 rows x 1 columns]"
            ],
            "text/html": [
              "\n",
              "  <div id=\"df-74a5b118-36f2-4bf8-a712-76dbb748bcf8\">\n",
              "    <div class=\"colab-df-container\">\n",
              "      <div>\n",
              "<style scoped>\n",
              "    .dataframe tbody tr th:only-of-type {\n",
              "        vertical-align: middle;\n",
              "    }\n",
              "\n",
              "    .dataframe tbody tr th {\n",
              "        vertical-align: top;\n",
              "    }\n",
              "\n",
              "    .dataframe thead th {\n",
              "        text-align: right;\n",
              "    }\n",
              "</style>\n",
              "<table border=\"1\" class=\"dataframe\">\n",
              "  <thead>\n",
              "    <tr style=\"text-align: right;\">\n",
              "      <th></th>\n",
              "      <th>Count</th>\n",
              "    </tr>\n",
              "  </thead>\n",
              "  <tbody>\n",
              "    <tr>\n",
              "      <th>0</th>\n",
              "      <td>0.0</td>\n",
              "    </tr>\n",
              "    <tr>\n",
              "      <th>1</th>\n",
              "      <td>0.0</td>\n",
              "    </tr>\n",
              "    <tr>\n",
              "      <th>2</th>\n",
              "      <td>0.0</td>\n",
              "    </tr>\n",
              "    <tr>\n",
              "      <th>3</th>\n",
              "      <td>0.0</td>\n",
              "    </tr>\n",
              "    <tr>\n",
              "      <th>4</th>\n",
              "      <td>0.0</td>\n",
              "    </tr>\n",
              "    <tr>\n",
              "      <th>...</th>\n",
              "      <td>...</td>\n",
              "    </tr>\n",
              "    <tr>\n",
              "      <th>1019</th>\n",
              "      <td>42.0</td>\n",
              "    </tr>\n",
              "    <tr>\n",
              "      <th>1020</th>\n",
              "      <td>33.0</td>\n",
              "    </tr>\n",
              "    <tr>\n",
              "      <th>1021</th>\n",
              "      <td>54.0</td>\n",
              "    </tr>\n",
              "    <tr>\n",
              "      <th>1022</th>\n",
              "      <td>44.0</td>\n",
              "    </tr>\n",
              "    <tr>\n",
              "      <th>1023</th>\n",
              "      <td>42.0</td>\n",
              "    </tr>\n",
              "  </tbody>\n",
              "</table>\n",
              "<p>1024 rows × 1 columns</p>\n",
              "</div>\n",
              "      <button class=\"colab-df-convert\" onclick=\"convertToInteractive('df-74a5b118-36f2-4bf8-a712-76dbb748bcf8')\"\n",
              "              title=\"Convert this dataframe to an interactive table.\"\n",
              "              style=\"display:none;\">\n",
              "        \n",
              "  <svg xmlns=\"http://www.w3.org/2000/svg\" height=\"24px\"viewBox=\"0 0 24 24\"\n",
              "       width=\"24px\">\n",
              "    <path d=\"M0 0h24v24H0V0z\" fill=\"none\"/>\n",
              "    <path d=\"M18.56 5.44l.94 2.06.94-2.06 2.06-.94-2.06-.94-.94-2.06-.94 2.06-2.06.94zm-11 1L8.5 8.5l.94-2.06 2.06-.94-2.06-.94L8.5 2.5l-.94 2.06-2.06.94zm10 10l.94 2.06.94-2.06 2.06-.94-2.06-.94-.94-2.06-.94 2.06-2.06.94z\"/><path d=\"M17.41 7.96l-1.37-1.37c-.4-.4-.92-.59-1.43-.59-.52 0-1.04.2-1.43.59L10.3 9.45l-7.72 7.72c-.78.78-.78 2.05 0 2.83L4 21.41c.39.39.9.59 1.41.59.51 0 1.02-.2 1.41-.59l7.78-7.78 2.81-2.81c.8-.78.8-2.07 0-2.86zM5.41 20L4 18.59l7.72-7.72 1.47 1.35L5.41 20z\"/>\n",
              "  </svg>\n",
              "      </button>\n",
              "      \n",
              "  <style>\n",
              "    .colab-df-container {\n",
              "      display:flex;\n",
              "      flex-wrap:wrap;\n",
              "      gap: 12px;\n",
              "    }\n",
              "\n",
              "    .colab-df-convert {\n",
              "      background-color: #E8F0FE;\n",
              "      border: none;\n",
              "      border-radius: 50%;\n",
              "      cursor: pointer;\n",
              "      display: none;\n",
              "      fill: #1967D2;\n",
              "      height: 32px;\n",
              "      padding: 0 0 0 0;\n",
              "      width: 32px;\n",
              "    }\n",
              "\n",
              "    .colab-df-convert:hover {\n",
              "      background-color: #E2EBFA;\n",
              "      box-shadow: 0px 1px 2px rgba(60, 64, 67, 0.3), 0px 1px 3px 1px rgba(60, 64, 67, 0.15);\n",
              "      fill: #174EA6;\n",
              "    }\n",
              "\n",
              "    [theme=dark] .colab-df-convert {\n",
              "      background-color: #3B4455;\n",
              "      fill: #D2E3FC;\n",
              "    }\n",
              "\n",
              "    [theme=dark] .colab-df-convert:hover {\n",
              "      background-color: #434B5C;\n",
              "      box-shadow: 0px 1px 3px 1px rgba(0, 0, 0, 0.15);\n",
              "      filter: drop-shadow(0px 1px 2px rgba(0, 0, 0, 0.3));\n",
              "      fill: #FFFFFF;\n",
              "    }\n",
              "  </style>\n",
              "\n",
              "      <script>\n",
              "        const buttonEl =\n",
              "          document.querySelector('#df-74a5b118-36f2-4bf8-a712-76dbb748bcf8 button.colab-df-convert');\n",
              "        buttonEl.style.display =\n",
              "          google.colab.kernel.accessAllowed ? 'block' : 'none';\n",
              "\n",
              "        async function convertToInteractive(key) {\n",
              "          const element = document.querySelector('#df-74a5b118-36f2-4bf8-a712-76dbb748bcf8');\n",
              "          const dataTable =\n",
              "            await google.colab.kernel.invokeFunction('convertToInteractive',\n",
              "                                                     [key], {});\n",
              "          if (!dataTable) return;\n",
              "\n",
              "          const docLinkHtml = 'Like what you see? Visit the ' +\n",
              "            '<a target=\"_blank\" href=https://colab.research.google.com/notebooks/data_table.ipynb>data table notebook</a>'\n",
              "            + ' to learn more about interactive tables.';\n",
              "          element.innerHTML = '';\n",
              "          dataTable['output_type'] = 'display_data';\n",
              "          await google.colab.output.renderOutput(dataTable, element);\n",
              "          const docLink = document.createElement('div');\n",
              "          docLink.innerHTML = docLinkHtml;\n",
              "          element.appendChild(docLink);\n",
              "        }\n",
              "      </script>\n",
              "    </div>\n",
              "  </div>\n",
              "  "
            ]
          },
          "metadata": {},
          "execution_count": 29
        }
      ]
    },
    {
      "cell_type": "code",
      "source": [
        "print(y)"
      ],
      "metadata": {
        "colab": {
          "base_uri": "https://localhost:8080/"
        },
        "id": "Am1TghDa0x8b",
        "outputId": "3c3f1ba3-635c-423d-b6ad-d7a6799c99d9"
      },
      "execution_count": 30,
      "outputs": [
        {
          "output_type": "stream",
          "name": "stdout",
          "text": [
            "[ 0.  0.  0. ... 54. 44. 42.]\n"
          ]
        }
      ]
    },
    {
      "cell_type": "markdown",
      "source": [
        "Extract Independent Variable Values (Convert Channels to Times)"
      ],
      "metadata": {
        "id": "hlqb67zc1vBh"
      }
    },
    {
      "cell_type": "code",
      "source": [
        "x = np.linspace(1,1024,1024)\n",
        "x"
      ],
      "metadata": {
        "colab": {
          "base_uri": "https://localhost:8080/"
        },
        "id": "JS6JjqM-1uxb",
        "outputId": "afc20cb4-449c-40c0-e489-e9b714a79d42"
      },
      "execution_count": 31,
      "outputs": [
        {
          "output_type": "execute_result",
          "data": {
            "text/plain": [
              "array([1.000e+00, 2.000e+00, 3.000e+00, ..., 1.022e+03, 1.023e+03,\n",
              "       1.024e+03])"
            ]
          },
          "metadata": {},
          "execution_count": 31
        }
      ]
    },
    {
      "cell_type": "code",
      "source": [
        "#Channel Number vs Time\n",
        "x1 = [135, 218, 280, 394, 491, 632, 734, 797, 881, 966]\n",
        "y1 = [2.690, 4.130, 5.250, 7.570, 9.330, 12.05, 13.97, 15.17, 16.85, 18.37]\n",
        "y1err = [.0005 for x in y1]"
      ],
      "metadata": {
        "id": "83b9k6jE72_5"
      },
      "execution_count": 32,
      "outputs": []
    },
    {
      "cell_type": "code",
      "source": [
        "popt1, pcov1 = optimize.curve_fit(func1,x1,y1)"
      ],
      "metadata": {
        "id": "O6p3Mthi78Bd"
      },
      "execution_count": 33,
      "outputs": []
    },
    {
      "cell_type": "code",
      "source": [
        "print(popt1)\n",
        "print(pcov1)"
      ],
      "metadata": {
        "colab": {
          "base_uri": "https://localhost:8080/"
        },
        "id": "soNH_WjF8GhV",
        "outputId": "29a16fa7-95dc-4d0b-d1b9-9932d7f3ce77"
      },
      "execution_count": 34,
      "outputs": [
        {
          "output_type": "stream",
          "name": "stdout",
          "text": [
            "[0.01901929 0.024139  ]\n",
            "[[ 5.04639218e-09 -2.78964410e-06]\n",
            " [-2.78964410e-06  1.92931587e-03]]\n"
          ]
        }
      ]
    },
    {
      "cell_type": "code",
      "source": [
        "((5.04639218*10**-9)**2+(1.92931587*10**-3)**2)**(1/2)"
      ],
      "metadata": {
        "colab": {
          "base_uri": "https://localhost:8080/"
        },
        "id": "3tyJVQgJGZPR",
        "outputId": "3ef201dd-84c7-4df6-f615-7bef2cfb9e47"
      },
      "execution_count": 35,
      "outputs": [
        {
          "output_type": "execute_result",
          "data": {
            "text/plain": [
              "0.0019293158700065998"
            ]
          },
          "metadata": {},
          "execution_count": 35
        }
      ]
    },
    {
      "cell_type": "code",
      "source": [
        "x1 = [135, 218, 280, 394, 491, 632, 734, 797, 881, 966]\n",
        "y1 = [2.690, 4.130, 5.250, 7.570, 9.330, 12.05, 13.97, 15.17, 16.85, 18.37]\n",
        "y1err = [.0005 for x in y1]\n",
        "fig, ax = plt.subplots(figsize=(6,4))\n",
        "ax.plot(x,func1(x,*popt1), \"--r\", label=\"{0:.3f}*x + {1:.3f}\".format(popt1[0],popt1[1]))\n",
        "ax.errorbar(x1,y1, yerr=y1err, fmt=\".k\", label=\"data\")\n",
        "ax.set_title(r'Channel Number vs Time', fontsize=16, fontweight='bold')\n",
        "ax.set_xlabel(r'Channel number', fontsize=16, fontweight='bold')\n",
        "ax.set_ylabel(r'Time [$\\mu$s]', fontsize=16, fontweight='bold')\n",
        "ax.set_ylim(0,20)\n",
        "ax.legend()\n",
        "ax.grid()\n",
        "plt.tight_layout()\n",
        "#plt.savefig('channel_time.png')\n",
        "#files.download('channel_time.png')\n",
        "print(r'The plot below tells us that each channel is worth 0.01901929 $\\pm$ 5.04639218e-09 + 0.024139 $\\pm$ 1.92931587e-03')\n",
        "print(\"The error in time for the fit is .0019 us\")"
      ],
      "metadata": {
        "colab": {
          "base_uri": "https://localhost:8080/",
          "height": 332
        },
        "id": "LlSwgzfX4Hkj",
        "outputId": "d7766453-340a-4dcd-e12e-1b8cf558b915"
      },
      "execution_count": 36,
      "outputs": [
        {
          "output_type": "stream",
          "name": "stdout",
          "text": [
            "The plot below tells us that each channel is worth 0.01901929 $\\pm$ 5.04639218e-09 + 0.024139 $\\pm$ 1.92931587e-03\n",
            "The error in time for the fit is .0019 us\n"
          ]
        },
        {
          "output_type": "display_data",
          "data": {
            "text/plain": [
              "<Figure size 432x288 with 1 Axes>"
            ],
            "image/png": "[encoded data removed]"
          },
          "metadata": {
            "needs_background": "light"
          }
        }
      ]
    },
    {
      "cell_type": "markdown",
      "source": [
        ""
      ],
      "metadata": {
        "id": "DWoD7NEw9n1H"
      }
    },
    {
      "cell_type": "code",
      "source": [
        "# cut the data to help the fit\n",
        "x = [popt1[0]*i+popt1[1] for i in x]\n",
        "x = x[11:]\n",
        "y = y[11:]"
      ],
      "metadata": {
        "id": "pBK1fs1L5TIr"
      },
      "execution_count": 37,
      "outputs": []
    },
    {
      "cell_type": "code",
      "source": [
        "popt, pcov = optimize.curve_fit(func2,x,y)\n",
        "print(popt)\n",
        "print(pcov)"
      ],
      "metadata": {
        "colab": {
          "base_uri": "https://localhost:8080/"
        },
        "id": "nTp7dwfry8vI",
        "outputId": "14d628fa-8daf-444c-ef87-0870ffe3a253"
      },
      "execution_count": 38,
      "outputs": [
        {
          "output_type": "stream",
          "name": "stdout",
          "text": [
            "[8.98541971e+02 4.71588902e-01 4.31061272e+01]\n",
            "[[8.17624798e+00 4.46904024e-03 1.28107812e-01]\n",
            " [4.46904024e-03 4.95096827e-06 5.92274227e-04]\n",
            " [1.28107812e-01 5.92274227e-04 2.52132924e-01]]\n"
          ]
        },
        {
          "output_type": "stream",
          "name": "stderr",
          "text": [
            "/usr/local/lib/python3.7/dist-packages/ipykernel_launcher.py:2: RuntimeWarning: overflow encountered in exp\n",
            "  \n",
            "/usr/local/lib/python3.7/dist-packages/ipykernel_launcher.py:2: RuntimeWarning: overflow encountered in multiply\n",
            "  \n"
          ]
        }
      ]
    },
    {
      "cell_type": "code",
      "source": [
        "y3 = [popt[0]*np.exp(-i*popt[1])+popt[2] for i in x]\n",
        "yerr = [np.sqrt(n) for n in y]"
      ],
      "metadata": {
        "id": "yaP8aLWw-3Ii"
      },
      "execution_count": 47,
      "outputs": []
    },
    {
      "cell_type": "code",
      "source": [
        "fig1, ax1 = plt.subplots(figsize=(6,4))\n",
        "ax1.errorbar(x,y, yerr=yerr,fmt=\".k\", label=\"data\", alpha=.5,zorder=0)\n",
        "ax1.plot(x,y3, \"--r\", label=r'{0:.3f}*e^(-{1:.3f}t)+{2:.3f}'.format(popt[0],popt[1],popt[2]),zorder=1)\n",
        "ax1.axhline(373,linestyle='dashed',color=\"b\", zorder=0, label=r'Mean-Life:2.12[$\\mu$ s]')\n",
        "ax1.vlines(2.12,0,875, linestyle='dashed',color=\"b\",zorder=0)\n",
        "ax1.set_title(r'Counts vs Time', fontsize=16, fontweight='bold')\n",
        "ax1.set_xlabel(r'Time [$\\mu$s]', fontsize=16, fontweight='bold')\n",
        "ax1.set_ylabel(r'Counts', fontsize=16, fontweight='bold')\n",
        "ax1.set_ylim(0,875)\n",
        "ax1.legend()\n",
        "ax1.grid()\n",
        "plt.tight_layout()\n",
        "plt.savefig('HL_with_falsedoubles.png')\n",
        "files.download('HL_with_falsedoubles.png')"
      ],
      "metadata": {
        "colab": {
          "base_uri": "https://localhost:8080/",
          "height": 297
        },
        "id": "BXyyw_W36PuA",
        "outputId": "33bca888-1fbd-4de5-96f8-1c4540cd0685"
      },
      "execution_count": 48,
      "outputs": [
        {
          "output_type": "display_data",
          "data": {
            "text/plain": [
              "<IPython.core.display.Javascript object>"
            ],
            "application/javascript": [
              "\n",
              "    async function download(id, filename, size) {\n",
              "      if (!google.colab.kernel.accessAllowed) {\n",
              "        return;\n",
              "      }\n",
              "      const div = document.createElement('div');\n",
              "      const label = document.createElement('label');\n",
              "      label.textContent = `Downloading \"${filename}\": `;\n",
              "      div.appendChild(label);\n",
              "      const progress = document.createElement('progress');\n",
              "      progress.max = size;\n",
              "      div.appendChild(progress);\n",
              "      document.body.appendChild(div);\n",
              "\n",
              "      const buffers = [];\n",
              "      let downloaded = 0;\n",
              "\n",
              "      const channel = await google.colab.kernel.comms.open(id);\n",
              "      // Send a message to notify the kernel that we're ready.\n",
              "      channel.send({})\n",
              "\n",
              "      for await (const message of channel.messages) {\n",
              "        // Send a message to notify the kernel that we're ready.\n",
              "        channel.send({})\n",
              "        if (message.buffers) {\n",
              "          for (const buffer of message.buffers) {\n",
              "            buffers.push(buffer);\n",
              "            downloaded += buffer.byteLength;\n",
              "            progress.value = downloaded;\n",
              "          }\n",
              "        }\n",
              "      }\n",
              "      const blob = new Blob(buffers, {type: 'application/binary'});\n",
              "      const a = document.createElement('a');\n",
              "      a.href = window.URL.createObjectURL(blob);\n",
              "      a.download = filename;\n",
              "      div.appendChild(a);\n",
              "      a.click();\n",
              "      div.remove();\n",
              "    }\n",
              "  "
            ]
          },
          "metadata": {}
        },
        {
          "output_type": "display_data",
          "data": {
            "text/plain": [
              "<IPython.core.display.Javascript object>"
            ],
            "application/javascript": [
              "download(\"download_6b203e8b-fef8-46cc-8272-f77fb3f6b4c7\", \"HL_with_falsedoubles.png\", 29889)"
            ]
          },
          "metadata": {}
        },
        {
          "output_type": "display_data",
          "data": {
            "text/plain": [
              "<Figure size 432x288 with 1 Axes>"
            ],
            "image/png": "[encoded data removed]"
          },
          "metadata": {
            "needs_background": "light"
          }
        }
      ]
    },
    {
      "cell_type": "code",
      "source": [
        "x[0]"
      ],
      "metadata": {
        "colab": {
          "base_uri": "https://localhost:8080/"
        },
        "id": "l3yH6zCRI-PV",
        "outputId": "12bd987e-94bd-4d65-ed1e-edaa0c2e9c4e"
      },
      "execution_count": 40,
      "outputs": [
        {
          "output_type": "execute_result",
          "data": {
            "text/plain": [
              "0.2523704302740811"
            ]
          },
          "metadata": {},
          "execution_count": 40
        }
      ]
    },
    {
      "cell_type": "code",
      "source": [
        "print(\"Mean lifetime: \"+str(1/.471588902)+\"+/-\"+str((4.95096827*10**-6)/(.471588902**2)))"
      ],
      "metadata": {
        "colab": {
          "base_uri": "https://localhost:8080/"
        },
        "id": "h0IgiYZOaQEa",
        "outputId": "8bb96a72-c953-42b0-d9b0-7d96b5e9cdff"
      },
      "execution_count": 41,
      "outputs": [
        {
          "output_type": "stream",
          "name": "stdout",
          "text": [
            "Mean lifetime: 2.1204909525203375+/-2.2261939113126682e-05\n"
          ]
        }
      ]
    },
    {
      "cell_type": "code",
      "source": [
        "# Error in the half life from the plot above\n",
        "a = 8.98541971*10**2\n",
        "b =.471588902\n",
        "c = 43.1061272\n",
        "sa = 8.17624798\n",
        "sb = 4.95096827*10**-6\n",
        "sc = .252132924\n",
        "t = .2523704302740811\n",
        "st = .0019\n",
        "y_2 = 398.81889877\n",
        "s1 = (1/2)*np.sqrt( (a*np.exp(-b*t)*b*st)**2 + sc**2 )\n",
        "s2 = np.sqrt(s1**2 + sc**2)\n",
        "s3 = (y_2-c)/a * np.sqrt( (s2/(y_2-c))**2 + (sa/a)**2 )\n",
        "s4 = s3/((y_2-c)/a)\n",
        "s5 = np.log((y_2-c)/a)/(-b) * np.sqrt( (s4/np.log((y_2-c)/a))**2 + (sb/b)**2 )\n",
        "s5"
      ],
      "metadata": {
        "colab": {
          "base_uri": "https://localhost:8080/"
        },
        "id": "qo-vbK9ROC6W",
        "outputId": "2629cfe1-5a1a-4564-e589-fece8e8e201e"
      },
      "execution_count": 42,
      "outputs": [
        {
          "output_type": "execute_result",
          "data": {
            "text/plain": [
              "0.019485193494826754"
            ]
          },
          "metadata": {},
          "execution_count": 42
        }
      ]
    }
  ]
}