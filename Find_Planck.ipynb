{
  "nbformat": 4,
  "nbformat_minor": 0,
  "metadata": {
    "colab": {
      "name": "Find_Planck.ipynb",
      "provenance": [],
      "authorship_tag": "ABX9TyNvo7arVtBUMH/zpJfW0xJ9",
      "include_colab_link": true
    },
    "kernelspec": {
      "name": "python3",
      "display_name": "Python 3"
    },
    "language_info": {
      "name": "python"
    }
  },
  "cells": [
    {
      "cell_type": "markdown",
      "metadata": {
        "id": "view-in-github",
        "colab_type": "text"
      },
      "source": [
        "<a href=\"https://colab.research.google.com/github/AndrewCrossman/PHYS646/blob/main/Find_Planck.ipynb\" target=\"_parent\"><img src=\"https://colab.research.google.com/assets/colab-badge.svg\" alt=\"Open In Colab\"/></a>"
      ]
    },
    {
      "cell_type": "code",
      "execution_count": null,
      "metadata": {
        "colab": {
          "base_uri": "https://localhost:8080/"
        },
        "id": "g5Lx_Y_JFRm8",
        "outputId": "e1bbd7e9-043f-41b4-84c3-f4eaeca00bac"
      },
      "outputs": [
        {
          "output_type": "stream",
          "name": "stdout",
          "text": [
            "Populating the interactive namespace from numpy and matplotlib\n"
          ]
        },
        {
          "output_type": "stream",
          "name": "stderr",
          "text": [
            "/usr/local/lib/python3.7/dist-packages/IPython/core/magics/pylab.py:161: UserWarning: pylab import has clobbered these variables: ['plt']\n",
            "`%matplotlib` prevents importing * from pylab and numpy\n",
            "  \"\\n`%matplotlib` prevents importing * from pylab and numpy\"\n"
          ]
        }
      ],
      "source": [
        "import numpy as np\n",
        "import scipy as sp\n",
        "from scipy import stats\n",
        "import matplotlib.pylab as plt\n",
        "from scipy.stats import linregress\n",
        "from scipy import optimize\n",
        "from google.colab import files\n",
        "%pylab inline\n",
        "#plt.style.use(\"https://raw.githubusercontent.com/fedhere/DSPS/master/fbb.mplstyle\")"
      ]
    },
    {
      "cell_type": "code",
      "source": [
        "di = .005\n",
        "v435 = [-1.174, -1.171, -1.168, -1.165, -1.162, -1.159, -1.156]\n",
        "i435 = [-.133, -.075, .001, .065, .129, .199, .273]\n",
        "i435err = [di for x in range(len(i435))]"
      ],
      "metadata": {
        "id": "h7GL5ToqZpSA"
      },
      "execution_count": null,
      "outputs": []
    },
    {
      "cell_type": "code",
      "source": [
        "v254 = [-1.120, -1.450, -1, -.8, -.5]\n",
        "i254 = [.001, -.005, .007, .016, .038]\n",
        "i254err = [.003, .004, .003, .003, .005]"
      ],
      "metadata": {
        "id": "M-X-MWqsPa9-"
      },
      "execution_count": null,
      "outputs": []
    },
    {
      "cell_type": "code",
      "source": [
        "v405 = [-1.383, -1.387, -1.380, -1.377, -1.374]\n",
        "i405 = [-.02, -.19, .13, .28, .40]\n",
        "i405err = [.02, .02, .02, .01, .02]"
      ],
      "metadata": {
        "id": "1PPwMHOKLGWB"
      },
      "execution_count": null,
      "outputs": []
    },
    {
      "cell_type": "code",
      "source": [
        "v577 = [-.683, -.686, -.680, -.677, -.674]\n",
        "i577 = [.001, -.125, .145, .262, .392]\n",
        "i577err = [.005, .010, .010, .005, .005]"
      ],
      "metadata": {
        "id": "oML70j1RL12J"
      },
      "execution_count": null,
      "outputs": []
    },
    {
      "cell_type": "code",
      "source": [
        "v365 = [-1.620, -1.623, -1.617, -1.614, -1.611]\n",
        "i365 = [.005, -.205, .24, .47, .775]\n",
        "i365err = [.015, .01, .03, .02, .015]"
      ],
      "metadata": {
        "id": "L4_6GqnqQ3P_"
      },
      "execution_count": null,
      "outputs": []
    },
    {
      "cell_type": "code",
      "source": [
        "v546 = [-.773, -.776, -.770, -.767, -.764]\n",
        "i546 = [.03, -.18, .23, .449, .675]\n",
        "i546err = [.02, .02, .01, .005, .005]"
      ],
      "metadata": {
        "id": "BJUcF7qNR13y"
      },
      "execution_count": null,
      "outputs": []
    },
    {
      "cell_type": "code",
      "source": [
        "x = v254\n",
        "y = i254\n",
        "yerr = i254err"
      ],
      "metadata": {
        "id": "Y6NIeiGiJ1A5"
      },
      "execution_count": null,
      "outputs": []
    },
    {
      "cell_type": "code",
      "source": [
        "A = np.vander(x, 2) #alternative to np.c_, same difference, but note the order of the columns\n",
        "ATA = np.dot(A.T, A / np.power(yerr,2)[:, None])\n",
        "cov = np.linalg.inv(ATA) #covariance will give us the errors\n",
        "w = np.linalg.solve(ATA, np.dot(A.T, y / np.power(yerr,2)))"
      ],
      "metadata": {
        "id": "e_MJD1mWbOao"
      },
      "execution_count": null,
      "outputs": []
    },
    {
      "cell_type": "code",
      "source": [
        "-w[1]/w[0], np.sqrt(cov[0, 0]), np.sqrt(cov[1, 1]), -w[1]/w[0]*( (cov[0, 0]/w[0]**2)+(cov[1, 1]/w[1]**2) )**(1/2)"
      ],
      "metadata": {
        "colab": {
          "base_uri": "https://localhost:8080/"
        },
        "id": "IjiB-q_DIs3f",
        "outputId": "0b961faf-7bc6-432a-fbfb-7b657b1a32b1"
      },
      "execution_count": null,
      "outputs": [
        {
          "output_type": "execute_result",
          "data": {
            "text/plain": [
              "(-1.2046386576190713,\n",
              " 0.005902879633060681,\n",
              " 0.006084111056328384,\n",
              " -0.2172887072966723)"
            ]
          },
          "metadata": {},
          "execution_count": 39
        }
      ]
    },
    {
      "cell_type": "code",
      "source": [
        "fig, ax = plt.subplots(figsize=(6,4))\n",
        "ax.errorbar(x,y,yerr=yerr, fmt=\".k\", label=\"data\")\n",
        "ax.plot(x, np.multiply(w[0],x)+w[1], \"r\", \n",
        "         alpha=0.75, lw=3, label=\"Best Fit: m = {0:.3f} ± {1:.3f}\".format(w[0], np.sqrt(cov[0, 0])))\n",
        "ax.set_title(r'f=435.8: $V_{sp}$=-1.1679$\\pm$.023', fontsize=16, fontweight='bold')\n",
        "ax.set_xlabel('Voltage [V]', fontsize=16, fontweight='bold')\n",
        "ax.set_ylabel(r'Current [nA]', fontsize=16, fontweight='bold')\n",
        "#ax.set_xlim(.9,2.9)\n",
        "#ax.set_ylim(3,10)\n",
        "ax.legend()\n",
        "ax.grid()\n",
        "plt.tight_layout()"
      ],
      "metadata": {
        "colab": {
          "base_uri": "https://localhost:8080/",
          "height": 297
        },
        "id": "0SUW2_R7btli",
        "outputId": "90368f6a-9793-4264-c7d9-99d0beb61646"
      },
      "execution_count": null,
      "outputs": [
        {
          "output_type": "display_data",
          "data": {
            "text/plain": [
              "<Figure size 432x288 with 1 Axes>"
            ],
            "image/png": "[encoded data removed]"
          },
          "metadata": {
            "needs_background": "light"
          }
        }
      ]
    },
    {
      "cell_type": "code",
      "source": [
        "wave = [435.8, 254.7, 404.7, 577.0, 365.0, 546.1]\n",
        "vsp = [-1.1679, -1.2046, -1.3828, -.6831, -1.6203, -.7732]\n",
        "vsperr = [.0230, .2173, .0756, .0147, .0397, .0178]"
      ],
      "metadata": {
        "id": "xB1U6rMjPRUm"
      },
      "execution_count": null,
      "outputs": []
    },
    {
      "cell_type": "code",
      "source": [
        ""
      ],
      "metadata": {
        "id": "_orlqCGLWZ2O"
      },
      "execution_count": null,
      "outputs": []
    },
    {
      "cell_type": "code",
      "source": [
        "fig1, ax1 = plt.subplots(figsize=(6,4))\n",
        "ax1.errorbar(wave,vsp,yerr=vsperr, fmt=\".k\", label=\"data\")\n",
        "#ax1.plot(x, np.multiply(w[0],x)+w[1], \"r\", \n",
        "#         alpha=0.75, lw=3, label=\"Best Fit: m = {0:.3f} ± {1:.3f}\".format(w[0], np.sqrt(cov[0, 0])))\n",
        "ax1.set_title(r'Planck Constant', fontsize=16, fontweight='bold')\n",
        "ax1.set_xlabel('Wavelength [nm]', fontsize=16, fontweight='bold')\n",
        "ax1.set_ylabel(r'$V_{sp}$ [V]', fontsize=16, fontweight='bold')\n",
        "#ax.set_xlim(.9,2.9)\n",
        "#ax.set_ylim(3,10)\n",
        "ax1.legend()\n",
        "ax1.grid()\n",
        "plt.tight_layout()"
      ],
      "metadata": {
        "colab": {
          "base_uri": "https://localhost:8080/",
          "height": 297
        },
        "id": "ZXhiyx-uVOdA",
        "outputId": "d10d05d0-9bce-4086-cc87-36d4ee241c52"
      },
      "execution_count": null,
      "outputs": [
        {
          "output_type": "display_data",
          "data": {
            "text/plain": [
              "<Figure size 432x288 with 1 Axes>"
            ],
            "image/png": "[encoded data removed]"
          },
          "metadata": {
            "needs_background": "light"
          }
        }
      ]
    }
  ]
}