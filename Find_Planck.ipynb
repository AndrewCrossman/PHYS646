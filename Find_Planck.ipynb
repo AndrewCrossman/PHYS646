{
  "nbformat": 4,
  "nbformat_minor": 0,
  "metadata": {
    "colab": {
      "name": "Find_Planck.ipynb",
      "provenance": [],
      "authorship_tag": "ABX9TyONqfH2uHiY2h/Xgiwu4c8w",
      "include_colab_link": true
    },
    "kernelspec": {
      "name": "python3",
      "display_name": "Python 3"
    },
    "language_info": {
      "name": "python"
    }
  },
  "cells": [
    {
      "cell_type": "markdown",
      "metadata": {
        "id": "view-in-github",
        "colab_type": "text"
      },
      "source": [
        "<a href=\"https://colab.research.google.com/github/AndrewCrossman/PHYS646/blob/main/Find_Planck.ipynb\" target=\"_parent\"><img src=\"https://colab.research.google.com/assets/colab-badge.svg\" alt=\"Open In Colab\"/></a>"
      ]
    },
    {
      "cell_type": "code",
      "execution_count": 2,
      "metadata": {
        "colab": {
          "base_uri": "https://localhost:8080/"
        },
        "id": "g5Lx_Y_JFRm8",
        "outputId": "7f41802f-a4bc-48d2-b734-f97ecf00451a"
      },
      "outputs": [
        {
          "output_type": "stream",
          "name": "stdout",
          "text": [
            "Populating the interactive namespace from numpy and matplotlib\n"
          ]
        },
        {
          "output_type": "stream",
          "name": "stderr",
          "text": [
            "/usr/local/lib/python3.7/dist-packages/IPython/core/magics/pylab.py:161: UserWarning: pylab import has clobbered these variables: ['plt']\n",
            "`%matplotlib` prevents importing * from pylab and numpy\n",
            "  \"\\n`%matplotlib` prevents importing * from pylab and numpy\"\n"
          ]
        }
      ],
      "source": [
        "import numpy as np\n",
        "import scipy as sp\n",
        "from scipy import stats\n",
        "import matplotlib.pylab as plt\n",
        "from scipy.stats import linregress\n",
        "from scipy import optimize\n",
        "from google.colab import files\n",
        "%pylab inline\n",
        "#plt.style.use(\"https://raw.githubusercontent.com/fedhere/DSPS/master/fbb.mplstyle\")"
      ]
    },
    {
      "cell_type": "code",
      "source": [
        "di = .005\n",
        "v435 = [-1.174, -1.171, -1.168, -1.165, -1.162, -1.159, -1.156]\n",
        "i435 = [-.133, -.075, .001, .065, .129, .199, .273]\n",
        "i435err = [di for x in range(len(i435))]"
      ],
      "metadata": {
        "id": "h7GL5ToqZpSA"
      },
      "execution_count": 3,
      "outputs": []
    },
    {
      "cell_type": "code",
      "source": [
        "v254 = [-1.120, -1.450, -1, -.8, -.5]\n",
        "i254 = [.001, -.005, .007, .016, .038]\n",
        "i254err = [.003, .004, .003, .003, .005]"
      ],
      "metadata": {
        "id": "M-X-MWqsPa9-"
      },
      "execution_count": 4,
      "outputs": []
    },
    {
      "cell_type": "code",
      "source": [
        "v405 = [-1.383, -1.387, -1.380, -1.377, -1.374]\n",
        "i405 = [-.02, -.19, .13, .28, .40]\n",
        "i405err = [.02, .02, .02, .01, .02]"
      ],
      "metadata": {
        "id": "1PPwMHOKLGWB"
      },
      "execution_count": 5,
      "outputs": []
    },
    {
      "cell_type": "code",
      "source": [
        "v577 = [-.683, -.686, -.680, -.677, -.674]\n",
        "i577 = [.001, -.125, .145, .262, .392]\n",
        "i577err = [.005, .010, .010, .005, .005]"
      ],
      "metadata": {
        "id": "oML70j1RL12J"
      },
      "execution_count": 6,
      "outputs": []
    },
    {
      "cell_type": "code",
      "source": [
        "v365 = [-1.620, -1.623, -1.617, -1.614, -1.611]\n",
        "i365 = [.005, -.205, .24, .47, .775]\n",
        "i365err = [.015, .01, .03, .02, .015]"
      ],
      "metadata": {
        "id": "L4_6GqnqQ3P_"
      },
      "execution_count": 7,
      "outputs": []
    },
    {
      "cell_type": "code",
      "source": [
        "v546 = [-.773, -.776, -.770, -.767, -.764]\n",
        "i546 = [.03, -.18, .23, .449, .675]\n",
        "i546err = [.02, .02, .01, .005, .005]"
      ],
      "metadata": {
        "id": "BJUcF7qNR13y"
      },
      "execution_count": 8,
      "outputs": []
    },
    {
      "cell_type": "code",
      "source": [
        "x = v254\n",
        "y = i254\n",
        "yerr = i254err"
      ],
      "metadata": {
        "id": "Y6NIeiGiJ1A5"
      },
      "execution_count": 9,
      "outputs": []
    },
    {
      "cell_type": "code",
      "source": [
        "A = np.vander(x, 2) #alternative to np.c_, same difference, but note the order of the columns\n",
        "ATA = np.dot(A.T, A / np.power(yerr,2)[:, None])\n",
        "cov = np.linalg.inv(ATA) #covariance will give us the errors\n",
        "w = np.linalg.solve(ATA, np.dot(A.T, y / np.power(yerr,2)))"
      ],
      "metadata": {
        "id": "e_MJD1mWbOao"
      },
      "execution_count": 10,
      "outputs": []
    },
    {
      "cell_type": "code",
      "source": [
        "# x-value where y=0, error in slope, error in intercept, overall error in x-value\n",
        "-w[1]/w[0], np.sqrt(cov[0, 0]), np.sqrt(cov[1, 1]), -w[1]/w[0]*( (cov[0, 0]/w[0]**2)+(cov[1, 1]/w[1]**2) )**(1/2)"
      ],
      "metadata": {
        "colab": {
          "base_uri": "https://localhost:8080/"
        },
        "id": "IjiB-q_DIs3f",
        "outputId": "52cd0647-b3e7-44fe-aec4-22a350dea577"
      },
      "execution_count": 11,
      "outputs": [
        {
          "output_type": "execute_result",
          "data": {
            "text/plain": [
              "(-1.2046386576190713,\n",
              " 0.005902879633060681,\n",
              " 0.006084111056328384,\n",
              " -0.2172887072966723)"
            ]
          },
          "metadata": {},
          "execution_count": 11
        }
      ]
    },
    {
      "cell_type": "code",
      "source": [
        "fig, ax = plt.subplots(figsize=(6,4))\n",
        "ax.errorbar(x,y,yerr=yerr, fmt=\".k\", label=\"data\")\n",
        "ax.plot(x, np.multiply(w[0],x)+w[1], \"r\", \n",
        "         alpha=0.75, lw=3, label=\"Best Fit: m = {0:.3f} ± {1:.3f}\".format(w[0], np.sqrt(cov[0, 0])))\n",
        "ax.set_title(r'$\\lambda$=435.8: $V_{sp}$=-1.1679$\\pm$.023', fontsize=16, fontweight='bold')\n",
        "ax.set_xlabel('Voltage [V]', fontsize=16, fontweight='bold')\n",
        "ax.set_ylabel(r'Current [nA]', fontsize=16, fontweight='bold')\n",
        "#ax.set_xlim(.9,2.9)\n",
        "#ax.set_ylim(3,10)\n",
        "ax.legend()\n",
        "ax.grid()\n",
        "plt.tight_layout()\n",
        "plt.savefig('1.png')\n",
        "files.download('1.png')"
      ],
      "metadata": {
        "colab": {
          "base_uri": "https://localhost:8080/",
          "height": 297
        },
        "id": "0SUW2_R7btli",
        "outputId": "628ba29d-a860-488c-e528-8a03db01d411"
      },
      "execution_count": 12,
      "outputs": [
        {
          "output_type": "display_data",
          "data": {
            "text/plain": [
              "<IPython.core.display.Javascript object>"
            ],
            "application/javascript": [
              "\n",
              "    async function download(id, filename, size) {\n",
              "      if (!google.colab.kernel.accessAllowed) {\n",
              "        return;\n",
              "      }\n",
              "      const div = document.createElement('div');\n",
              "      const label = document.createElement('label');\n",
              "      label.textContent = `Downloading \"${filename}\": `;\n",
              "      div.appendChild(label);\n",
              "      const progress = document.createElement('progress');\n",
              "      progress.max = size;\n",
              "      div.appendChild(progress);\n",
              "      document.body.appendChild(div);\n",
              "\n",
              "      const buffers = [];\n",
              "      let downloaded = 0;\n",
              "\n",
              "      const channel = await google.colab.kernel.comms.open(id);\n",
              "      // Send a message to notify the kernel that we're ready.\n",
              "      channel.send({})\n",
              "\n",
              "      for await (const message of channel.messages) {\n",
              "        // Send a message to notify the kernel that we're ready.\n",
              "        channel.send({})\n",
              "        if (message.buffers) {\n",
              "          for (const buffer of message.buffers) {\n",
              "            buffers.push(buffer);\n",
              "            downloaded += buffer.byteLength;\n",
              "            progress.value = downloaded;\n",
              "          }\n",
              "        }\n",
              "      }\n",
              "      const blob = new Blob(buffers, {type: 'application/binary'});\n",
              "      const a = document.createElement('a');\n",
              "      a.href = window.URL.createObjectURL(blob);\n",
              "      a.download = filename;\n",
              "      div.appendChild(a);\n",
              "      a.click();\n",
              "      div.remove();\n",
              "    }\n",
              "  "
            ]
          },
          "metadata": {}
        },
        {
          "output_type": "display_data",
          "data": {
            "text/plain": [
              "<IPython.core.display.Javascript object>"
            ],
            "application/javascript": [
              "download(\"download_84072bf1-cf69-4bc0-b230-1fc78cf0c9d7\", \"1.png\", 19517)"
            ]
          },
          "metadata": {}
        },
        {
          "output_type": "display_data",
          "data": {
            "text/plain": [
              "<Figure size 432x288 with 1 Axes>"
            ],
            "image/png": "[encoded data removed]"
          },
          "metadata": {
            "needs_background": "light"
          }
        }
      ]
    },
    {
      "cell_type": "code",
      "source": [
        "wave = [435.8, 254.7, 404.7, 577.0, 365.0, 546.1]\n",
        "vsp = [-1.1679, -1.2046, -1.3828, -.6831, -1.6203, -.7732]\n",
        "vsperr = [.0230, .2173, .0756, .0147, .0397, .0178]\n",
        "wave = [(299792458*10**9*10**(-15))/x for x in wave]"
      ],
      "metadata": {
        "id": "xB1U6rMjPRUm"
      },
      "execution_count": 13,
      "outputs": []
    },
    {
      "cell_type": "code",
      "source": [
        "A1 = np.vander(wave, 2) #alternative to np.c_, same difference, but note the order of the columns\n",
        "ATA1 = np.dot(A1.T, A1 / np.power(vsperr,2)[:, None])\n",
        "cov1 = np.linalg.inv(ATA1) #covariance will give us the errors\n",
        "w1 = np.linalg.solve(ATA1, np.dot(A1.T, vsp / np.power(vsperr,2)))"
      ],
      "metadata": {
        "id": "PyGz1qD7yE9R"
      },
      "execution_count": 14,
      "outputs": []
    },
    {
      "cell_type": "code",
      "source": [
        "wave1 = [435.8, 404.7, 577.0, 365.0, 546.1]\n",
        "vsp1 = [-1.1679, -1.3828, -.6831, -1.6203, -.7732]\n",
        "vsperr1 = [.0230, .0756, .0147, .0397, .0178]\n",
        "wave1 = [(299792458*10**9*10**(-15))/x for x in wave1]"
      ],
      "metadata": {
        "id": "vKqxekpeDpR6"
      },
      "execution_count": 15,
      "outputs": []
    },
    {
      "cell_type": "code",
      "source": [
        "A2 = np.vander(wave1, 2) #alternative to np.c_, same difference, but note the order of the columns\n",
        "ATA2 = np.dot(A2.T, A2 / np.power(vsperr1,2)[:, None])\n",
        "cov2 = np.linalg.inv(ATA2) #covariance will give us the errors\n",
        "w2 = np.linalg.solve(ATA2, np.dot(A2.T, vsp1 / np.power(vsperr1,2)))"
      ],
      "metadata": {
        "id": "Vo_DcrEkDj8c"
      },
      "execution_count": 16,
      "outputs": []
    },
    {
      "cell_type": "code",
      "source": [
        "fig1, ax1 = plt.subplots(figsize=(6,4))\n",
        "ax1.errorbar(wave,vsp,yerr=vsperr, fmt=\".k\", label=\"data\")\n",
        "ax1.plot(wave, np.multiply(w1[0],wave)+w1[1], \"r\", \n",
        "         alpha=0.6, lw=3, label=\"Best Fit: m = {0:.3f} ± {1:.3f}\".format(w1[0], np.sqrt(cov1[0, 0])))\n",
        "ax1.plot(wave, np.multiply(w2[0],wave)+w2[1], \"b\", \n",
        "         alpha=0.6, lw=3, label=\"Best Fit: m = {0:.3f} ± {1:.3f}\".format(w2[0], np.sqrt(cov2[0, 0])))\n",
        "ax1.set_title(r'Planck Constant from Slope', fontsize=16, fontweight='bold')\n",
        "ax1.set_xlabel('Frequency [PHz]', fontsize=16, fontweight='bold')\n",
        "ax1.set_ylabel(r'$V_{sp}$ [V]', fontsize=16, fontweight='bold')\n",
        "ax1.legend()\n",
        "ax1.grid()\n",
        "plt.tight_layout()\n",
        "plt.savefig('VvsF.png')\n",
        "files.download('VvsF.png')"
      ],
      "metadata": {
        "colab": {
          "base_uri": "https://localhost:8080/",
          "height": 297
        },
        "id": "ZXhiyx-uVOdA",
        "outputId": "8ed2686b-ca53-4a89-ea47-eb5a1e7dc25a"
      },
      "execution_count": 17,
      "outputs": [
        {
          "output_type": "display_data",
          "data": {
            "text/plain": [
              "<IPython.core.display.Javascript object>"
            ],
            "application/javascript": [
              "\n",
              "    async function download(id, filename, size) {\n",
              "      if (!google.colab.kernel.accessAllowed) {\n",
              "        return;\n",
              "      }\n",
              "      const div = document.createElement('div');\n",
              "      const label = document.createElement('label');\n",
              "      label.textContent = `Downloading \"${filename}\": `;\n",
              "      div.appendChild(label);\n",
              "      const progress = document.createElement('progress');\n",
              "      progress.max = size;\n",
              "      div.appendChild(progress);\n",
              "      document.body.appendChild(div);\n",
              "\n",
              "      const buffers = [];\n",
              "      let downloaded = 0;\n",
              "\n",
              "      const channel = await google.colab.kernel.comms.open(id);\n",
              "      // Send a message to notify the kernel that we're ready.\n",
              "      channel.send({})\n",
              "\n",
              "      for await (const message of channel.messages) {\n",
              "        // Send a message to notify the kernel that we're ready.\n",
              "        channel.send({})\n",
              "        if (message.buffers) {\n",
              "          for (const buffer of message.buffers) {\n",
              "            buffers.push(buffer);\n",
              "            downloaded += buffer.byteLength;\n",
              "            progress.value = downloaded;\n",
              "          }\n",
              "        }\n",
              "      }\n",
              "      const blob = new Blob(buffers, {type: 'application/binary'});\n",
              "      const a = document.createElement('a');\n",
              "      a.href = window.URL.createObjectURL(blob);\n",
              "      a.download = filename;\n",
              "      div.appendChild(a);\n",
              "      a.click();\n",
              "      div.remove();\n",
              "    }\n",
              "  "
            ]
          },
          "metadata": {}
        },
        {
          "output_type": "display_data",
          "data": {
            "text/plain": [
              "<IPython.core.display.Javascript object>"
            ],
            "application/javascript": [
              "download(\"download_b3cd8ab8-9240-4d05-8d37-2f78dadf0c9e\", \"VvsF.png\", 24203)"
            ]
          },
          "metadata": {}
        },
        {
          "output_type": "display_data",
          "data": {
            "text/plain": [
              "<Figure size 432x288 with 1 Axes>"
            ],
            "image/png": "[encoded data removed]"
          },
          "metadata": {
            "needs_background": "light"
          }
        }
      ]
    },
    {
      "cell_type": "code",
      "source": [
        "\"Planck's Constant is e^-*slope = {0:.5f} ± {1:.5f}\".format(w1[0]*10**-15*1.602*10**-19*10**34, np.sqrt(cov1[0, 0])*10**-15*1.6*10**-19*10**34)"
      ],
      "metadata": {
        "colab": {
          "base_uri": "https://localhost:8080/",
          "height": 35
        },
        "id": "lUiGY9XcCwg1",
        "outputId": "f804b0c0-c39a-4d3b-c5d2-413ae18c1399"
      },
      "execution_count": 18,
      "outputs": [
        {
          "output_type": "execute_result",
          "data": {
            "text/plain": [
              "\"Planck's Constant is e^-*slope = -4.51195 ± 0.16778\""
            ],
            "application/vnd.google.colaboratory.intrinsic+json": {
              "type": "string"
            }
          },
          "metadata": {},
          "execution_count": 18
        }
      ]
    },
    {
      "cell_type": "code",
      "source": [
        "\"Planck's Constant is e^-*slope = {0:.5f}± {1:.5f}\".format(w2[0]*10**-15*1.602*10**-19*10**34, np.sqrt(cov2[0, 0])*10**-15*1.6*10**-19*10**34)"
      ],
      "metadata": {
        "colab": {
          "base_uri": "https://localhost:8080/",
          "height": 35
        },
        "id": "7icyh8kcHnx-",
        "outputId": "01ae5b85-7548-4bf1-da2a-6f7a2e2b524f"
      },
      "execution_count": 19,
      "outputs": [
        {
          "output_type": "execute_result",
          "data": {
            "text/plain": [
              "\"Planck's Constant is e^-*slope = -4.83646± 0.17517\""
            ],
            "application/vnd.google.colaboratory.intrinsic+json": {
              "type": "string"
            }
          },
          "metadata": {},
          "execution_count": 19
        }
      ]
    },
    {
      "cell_type": "markdown",
      "source": [
        "# Experiment Two"
      ],
      "metadata": {
        "id": "trDlEPPxKDni"
      }
    },
    {
      "cell_type": "code",
      "source": [
        "ND1V = [-1.311, -1.314, -1.308, -1.305, -1.302]\n",
        "ND1I = [.02, -.09, .14, .259, .345]\n",
        "ND1Ierr = [.03, .03, .03, .02, .03]\n",
        "\n",
        "ND6V = [-1.364, -1.367, -1.361, -1.358, -1.355]\n",
        "ND6I = [.01, -.26, .435, .845, 1.18]\n",
        "ND6Ierr = [.02, .04 ,.03 ,.02, .02]\n",
        "\n",
        "ND3V = [-1.419, -1.422, -1.416, -1.413, -1.410]\n",
        "ND3I = [.08, -.94, .75, 1.58, 2.23]\n",
        "ND3Ierr = [.05, .03, .03, .04, .05]\n",
        "\n",
        "ND2V = [-1.172, -1.175, -1.166, -1.163, -1.160]\n",
        "ND2I = [-.001, -.012, .009, .012, .018]\n",
        "ND2Ierr = [.002, .003, .004, .005, .005]"
      ],
      "metadata": {
        "id": "wHVtGhm9KKsr"
      },
      "execution_count": 20,
      "outputs": []
    },
    {
      "cell_type": "code",
      "source": [
        "x1 = ND1V\n",
        "y1 = ND1I\n",
        "y1err = ND1Ierr\n",
        "\n",
        "A3 = np.vander(x1, 2) #alternative to np.c_, same difference, but note the order of the columns\n",
        "ATA3 = np.dot(A3.T, A3 / np.power(y1err,2)[:, None])\n",
        "cov3 = np.linalg.inv(ATA3) #covariance will give us the errors\n",
        "w3 = np.linalg.solve(ATA3, np.dot(A3.T, y1 / np.power(y1err,2)))"
      ],
      "metadata": {
        "id": "5w17K7trKHwg"
      },
      "execution_count": 21,
      "outputs": []
    },
    {
      "cell_type": "code",
      "source": [
        "# x-value where y=0, error in slope, error in intercept, overall error in x-value\n",
        "-w3[1]/w3[0], np.sqrt(cov3[0, 0]), np.sqrt(cov3[1, 1]), -w3[1]/w3[0]*( (cov3[0, 0]/w3[0]**2)+(cov3[1, 1]/w3[1]**2) )**(1/2)"
      ],
      "metadata": {
        "colab": {
          "base_uri": "https://localhost:8080/"
        },
        "id": "4BrWHiCiLxBY",
        "outputId": "83e7fe3b-806b-4f8c-ecb1-4816ce0d602d"
      },
      "execution_count": 22,
      "outputs": [
        {
          "output_type": "execute_result",
          "data": {
            "text/plain": [
              "(-1.311671910476863,\n",
              " 3.015113445758299,\n",
              " 3.9419775839707603,\n",
              " -0.14942321853752133)"
            ]
          },
          "metadata": {},
          "execution_count": 22
        }
      ]
    },
    {
      "cell_type": "code",
      "source": [
        "fig2, ax2 = plt.subplots(figsize=(6,4))\n",
        "ax2.errorbar(x1,y1,yerr=y1err, fmt=\".k\", label=\"data\")\n",
        "ax2.plot(x1, np.multiply(w3[0],x1)+w3[1], \"r\", \n",
        "         alpha=0.75, lw=3, label=\"Best Fit: m = {0:.3f} ± {1:.3f}\".format(w3[0], np.sqrt(cov3[0, 0])))\n",
        "ax2.set_title(r'ND=1.0: $V_{sp}$=-1.3117$\\pm$.15', fontsize=16, fontweight='bold')\n",
        "ax2.set_xlabel('Voltage [V]', fontsize=16, fontweight='bold')\n",
        "ax2.set_ylabel(r'Current [nA]', fontsize=16, fontweight='bold')\n",
        "#ax.set_xlim(.9,2.9)\n",
        "#ax.set_ylim(3,10)\n",
        "ax2.legend()\n",
        "ax2.grid()\n",
        "plt.tight_layout()\n",
        "plt.savefig('2.png')\n",
        "files.download('2.png')"
      ],
      "metadata": {
        "colab": {
          "base_uri": "https://localhost:8080/",
          "height": 297
        },
        "id": "fZD4uK2LMRwM",
        "outputId": "70e0a49c-011f-4701-b820-de6920e12a40"
      },
      "execution_count": 23,
      "outputs": [
        {
          "output_type": "display_data",
          "data": {
            "text/plain": [
              "<IPython.core.display.Javascript object>"
            ],
            "application/javascript": [
              "\n",
              "    async function download(id, filename, size) {\n",
              "      if (!google.colab.kernel.accessAllowed) {\n",
              "        return;\n",
              "      }\n",
              "      const div = document.createElement('div');\n",
              "      const label = document.createElement('label');\n",
              "      label.textContent = `Downloading \"${filename}\": `;\n",
              "      div.appendChild(label);\n",
              "      const progress = document.createElement('progress');\n",
              "      progress.max = size;\n",
              "      div.appendChild(progress);\n",
              "      document.body.appendChild(div);\n",
              "\n",
              "      const buffers = [];\n",
              "      let downloaded = 0;\n",
              "\n",
              "      const channel = await google.colab.kernel.comms.open(id);\n",
              "      // Send a message to notify the kernel that we're ready.\n",
              "      channel.send({})\n",
              "\n",
              "      for await (const message of channel.messages) {\n",
              "        // Send a message to notify the kernel that we're ready.\n",
              "        channel.send({})\n",
              "        if (message.buffers) {\n",
              "          for (const buffer of message.buffers) {\n",
              "            buffers.push(buffer);\n",
              "            downloaded += buffer.byteLength;\n",
              "            progress.value = downloaded;\n",
              "          }\n",
              "        }\n",
              "      }\n",
              "      const blob = new Blob(buffers, {type: 'application/binary'});\n",
              "      const a = document.createElement('a');\n",
              "      a.href = window.URL.createObjectURL(blob);\n",
              "      a.download = filename;\n",
              "      div.appendChild(a);\n",
              "      a.click();\n",
              "      div.remove();\n",
              "    }\n",
              "  "
            ]
          },
          "metadata": {}
        },
        {
          "output_type": "display_data",
          "data": {
            "text/plain": [
              "<IPython.core.display.Javascript object>"
            ],
            "application/javascript": [
              "download(\"download_1fd9df6c-046e-4df5-951b-541891911737\", \"2.png\", 18288)"
            ]
          },
          "metadata": {}
        },
        {
          "output_type": "display_data",
          "data": {
            "text/plain": [
              "<Figure size 432x288 with 1 Axes>"
            ],
            "image/png": "[encoded data removed]"
          },
          "metadata": {
            "needs_background": "light"
          }
        }
      ]
    },
    {
      "cell_type": "code",
      "source": [
        "NDs = [2, 1, .6, .3]\n",
        "Vs = [-1.1704,-1.3120, -1.3643, -1.4187]\n",
        "Vserr = [.027, .15, .04, .03]"
      ],
      "metadata": {
        "id": "wf0AA-ZhZ1mg"
      },
      "execution_count": 24,
      "outputs": []
    },
    {
      "cell_type": "code",
      "source": [
        "A4 = np.vander(NDs, 2) #alternative to np.c_, same difference, but note the order of the columns\n",
        "ATA4 = np.dot(A4.T, A4 / np.power(Vserr,2)[:, None])\n",
        "cov4 = np.linalg.inv(ATA4) #covariance will give us the errors\n",
        "w4 = np.linalg.solve(ATA4, np.dot(A4.T, Vs / np.power(Vserr,2)))"
      ],
      "metadata": {
        "id": "Zb2o8TIwcH7K"
      },
      "execution_count": 25,
      "outputs": []
    },
    {
      "cell_type": "code",
      "source": [
        "fig3, ax3 = plt.subplots(figsize=(6,4))\n",
        "ax3.errorbar(NDs,Vs,yerr=Vserr, fmt=\".k\", label=\"data\")\n",
        "ax3.plot(NDs, np.multiply(w4[0],NDs)+w4[1], \"r\", \n",
        "         alpha=0.6, lw=3, label=\"Best Fit: m = {0:.3f} ± {1:.3f}\".format(w4[0], np.sqrt(cov4[0, 0])))\n",
        "ax3.set_title(r'$V_{sp}$ as a function of ND', fontsize=16, fontweight='bold')\n",
        "ax3.set_xlabel('ND', fontsize=16, fontweight='bold')\n",
        "ax3.set_ylabel(r'$V_{sp}$ [V]', fontsize=16, fontweight='bold')\n",
        "ax3.legend()\n",
        "ax3.grid()\n",
        "plt.tight_layout()\n",
        "plt.savefig('ODvsF.png')\n",
        "files.download('ODvsF.png')"
      ],
      "metadata": {
        "colab": {
          "base_uri": "https://localhost:8080/",
          "height": 297
        },
        "id": "L-rc1Z4QcVr3",
        "outputId": "6b865ce5-e1b8-4c2d-c4a3-d6d09d749e23"
      },
      "execution_count": 26,
      "outputs": [
        {
          "output_type": "display_data",
          "data": {
            "text/plain": [
              "<IPython.core.display.Javascript object>"
            ],
            "application/javascript": [
              "\n",
              "    async function download(id, filename, size) {\n",
              "      if (!google.colab.kernel.accessAllowed) {\n",
              "        return;\n",
              "      }\n",
              "      const div = document.createElement('div');\n",
              "      const label = document.createElement('label');\n",
              "      label.textContent = `Downloading \"${filename}\": `;\n",
              "      div.appendChild(label);\n",
              "      const progress = document.createElement('progress');\n",
              "      progress.max = size;\n",
              "      div.appendChild(progress);\n",
              "      document.body.appendChild(div);\n",
              "\n",
              "      const buffers = [];\n",
              "      let downloaded = 0;\n",
              "\n",
              "      const channel = await google.colab.kernel.comms.open(id);\n",
              "      // Send a message to notify the kernel that we're ready.\n",
              "      channel.send({})\n",
              "\n",
              "      for await (const message of channel.messages) {\n",
              "        // Send a message to notify the kernel that we're ready.\n",
              "        channel.send({})\n",
              "        if (message.buffers) {\n",
              "          for (const buffer of message.buffers) {\n",
              "            buffers.push(buffer);\n",
              "            downloaded += buffer.byteLength;\n",
              "            progress.value = downloaded;\n",
              "          }\n",
              "        }\n",
              "      }\n",
              "      const blob = new Blob(buffers, {type: 'application/binary'});\n",
              "      const a = document.createElement('a');\n",
              "      a.href = window.URL.createObjectURL(blob);\n",
              "      a.download = filename;\n",
              "      div.appendChild(a);\n",
              "      a.click();\n",
              "      div.remove();\n",
              "    }\n",
              "  "
            ]
          },
          "metadata": {}
        },
        {
          "output_type": "display_data",
          "data": {
            "text/plain": [
              "<IPython.core.display.Javascript object>"
            ],
            "application/javascript": [
              "download(\"download_ae6335b1-3ad7-4a50-a810-d2fc647fb07c\", \"ODvsF.png\", 16416)"
            ]
          },
          "metadata": {}
        },
        {
          "output_type": "display_data",
          "data": {
            "text/plain": [
              "<Figure size 432x288 with 1 Axes>"
            ],
            "image/png": "[encoded data removed]"
          },
          "metadata": {
            "needs_background": "light"
          }
        }
      ]
    }
  ]
}