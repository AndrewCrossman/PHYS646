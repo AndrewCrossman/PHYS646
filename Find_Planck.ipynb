{
  "nbformat": 4,
  "nbformat_minor": 0,
  "metadata": {
    "colab": {
      "name": "Find_Planck.ipynb",
      "provenance": [],
      "authorship_tag": "ABX9TyPRm8q0qJiURNjDo7z0XmWA",
      "include_colab_link": true
    },
    "kernelspec": {
      "name": "python3",
      "display_name": "Python 3"
    },
    "language_info": {
      "name": "python"
    }
  },
  "cells": [
    {
      "cell_type": "markdown",
      "metadata": {
        "id": "view-in-github",
        "colab_type": "text"
      },
      "source": [
        "<a href=\"https://colab.research.google.com/github/AndrewCrossman/PHYS646/blob/main/Find_Planck.ipynb\" target=\"_parent\"><img src=\"https://colab.research.google.com/assets/colab-badge.svg\" alt=\"Open In Colab\"/></a>"
      ]
    },
    {
      "cell_type": "code",
      "execution_count": 2,
      "metadata": {
        "colab": {
          "base_uri": "https://localhost:8080/"
        },
        "id": "g5Lx_Y_JFRm8",
        "outputId": "ec7dffb4-cd1b-433e-e518-6868eb311fed"
      },
      "outputs": [
        {
          "output_type": "stream",
          "name": "stdout",
          "text": [
            "Populating the interactive namespace from numpy and matplotlib\n"
          ]
        },
        {
          "output_type": "stream",
          "name": "stderr",
          "text": [
            "/usr/local/lib/python3.7/dist-packages/IPython/core/magics/pylab.py:161: UserWarning: pylab import has clobbered these variables: ['plt']\n",
            "`%matplotlib` prevents importing * from pylab and numpy\n",
            "  \"\\n`%matplotlib` prevents importing * from pylab and numpy\"\n"
          ]
        }
      ],
      "source": [
        "import numpy as np\n",
        "import scipy as sp\n",
        "from scipy import stats\n",
        "import matplotlib.pylab as plt\n",
        "from scipy.stats import linregress\n",
        "from scipy import optimize\n",
        "from google.colab import files\n",
        "%pylab inline\n",
        "#plt.style.use(\"https://raw.githubusercontent.com/fedhere/DSPS/master/fbb.mplstyle\")"
      ]
    },
    {
      "cell_type": "code",
      "source": [
        "dv = .0005\n",
        "di = .005\n",
        "v435 = [-1.174, -1.171, -1.168, -1.165, -1.162, -1.159, -1.156]\n",
        "i435 = [-.133, -.075, .001, .065, .129, .199, .273]\n",
        "v435err = [dv for x in range(len(v435))]\n",
        "i435err = [di for x in range(len(i435))]"
      ],
      "metadata": {
        "id": "h7GL5ToqZpSA"
      },
      "execution_count": 3,
      "outputs": []
    },
    {
      "cell_type": "code",
      "source": [
        "A = np.vander(v435, 2) #alternative to np.c_, same difference, but note the order of the columns\n",
        "ATA = np.dot(A.T, A / np.power(i435err,2)[:, None])\n",
        "cov = np.linalg.inv(ATA) #covariance will give us the errors\n",
        "w = np.linalg.solve(ATA, np.dot(A.T, i435 / np.power(i435err,2)))"
      ],
      "metadata": {
        "id": "e_MJD1mWbOao"
      },
      "execution_count": 4,
      "outputs": []
    },
    {
      "cell_type": "code",
      "source": [
        "fig, ax = plt.subplots(figsize=(6,4))\n",
        "ax.errorbar(v435,i435,yerr=i435err, fmt=\".k\", label=\"data\")\n",
        "ax.plot(v435, np.multiply(w[0],v435)+w[1], \"r\", \n",
        "         alpha=0.75, lw=3, label=\"Best Fit: m = {0:.3f} ± {1:.3f}\".format(w[0], np.sqrt(cov[0, 0])))\n",
        "ax.set_title(r'Stopping Potential: f=435.8', fontsize=16, fontweight='bold')\n",
        "ax.set_xlabel('Voltage [V]', fontsize=16, fontweight='bold')\n",
        "ax.set_ylabel(r'Current [nA]', fontsize=16, fontweight='bold')\n",
        "#ax.set_xlim(.9,2.9)\n",
        "#ax.set_ylim(3,10)\n",
        "ax.legend()\n",
        "ax.grid()\n",
        "plt.tight_layout()"
      ],
      "metadata": {
        "colab": {
          "base_uri": "https://localhost:8080/",
          "height": 297
        },
        "id": "0SUW2_R7btli",
        "outputId": "0ba9e204-ac0c-4561-c080-f0a8ab80d0f3"
      },
      "execution_count": 10,
      "outputs": [
        {
          "output_type": "display_data",
          "data": {
            "text/plain": [
              "<Figure size 432x288 with 1 Axes>"
            ],
            "image/png": "[encoded data removed]"
          },
          "metadata": {
            "needs_background": "light"
          }
        }
      ]
    }
  ]
}