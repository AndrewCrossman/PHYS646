{
  "nbformat": 4,
  "nbformat_minor": 0,
  "metadata": {
    "colab": {
      "name": "Pulsed_NMR.ipynb",
      "provenance": [],
      "collapsed_sections": [],
      "authorship_tag": "ABX9TyPeMSzsDTKCP7hWQ9/LMAxT",
      "include_colab_link": true
    },
    "kernelspec": {
      "name": "python3",
      "display_name": "Python 3"
    },
    "language_info": {
      "name": "python"
    }
  },
  "cells": [
    {
      "cell_type": "markdown",
      "metadata": {
        "id": "view-in-github",
        "colab_type": "text"
      },
      "source": [
        "<a href=\"https://colab.research.google.com/github/AndrewCrossman/PHYS646/blob/main/Pulsed_NMR.ipynb\" target=\"_parent\"><img src=\"https://colab.research.google.com/assets/colab-badge.svg\" alt=\"Open In Colab\"/></a>"
      ]
    },
    {
      "cell_type": "code",
      "execution_count": 102,
      "metadata": {
        "colab": {
          "base_uri": "https://localhost:8080/"
        },
        "id": "X46iEAYt7u1_",
        "outputId": "288953e9-63c5-480a-9e4f-2c7ffc30a9e5"
      },
      "outputs": [
        {
          "output_type": "stream",
          "name": "stdout",
          "text": [
            "Populating the interactive namespace from numpy and matplotlib\n"
          ]
        },
        {
          "output_type": "stream",
          "name": "stderr",
          "text": [
            "/usr/local/lib/python3.7/dist-packages/IPython/core/magics/pylab.py:161: UserWarning: pylab import has clobbered these variables: ['plt', 'f']\n",
            "`%matplotlib` prevents importing * from pylab and numpy\n",
            "  \"\\n`%matplotlib` prevents importing * from pylab and numpy\"\n"
          ]
        }
      ],
      "source": [
        "import numpy as np\n",
        "import scipy as sp\n",
        "from scipy import stats\n",
        "import matplotlib.pylab as plt\n",
        "from scipy.stats import linregress\n",
        "from scipy import optimize\n",
        "from google.colab import files\n",
        "%pylab inline\n",
        "#plt.style.use(\"https://raw.githubusercontent.com/fedhere/DSPS/master/fbb.mplstyle\")"
      ]
    },
    {
      "cell_type": "markdown",
      "source": [
        "Exponential Curve Fit"
      ],
      "metadata": {
        "id": "0R-2KPh68DIR"
      }
    },
    {
      "cell_type": "code",
      "source": [
        "def func(x, a, b, c):\n",
        "    return a * np.exp(-b * x) + c"
      ],
      "metadata": {
        "id": "sjoZ48_Z8IC1"
      },
      "execution_count": 103,
      "outputs": []
    },
    {
      "cell_type": "markdown",
      "source": [
        "Finding T1"
      ],
      "metadata": {
        "id": "mIYDrrLk7zbl"
      }
    },
    {
      "cell_type": "code",
      "source": [
        "x1 = [0.0001,0.0010,0.0030,0.0050,0.0090,0.0150,0.0200,0.0250,0.0300,0.0325,0.0350,0.0360,0.0365,0.0370,0.0380,0.0390,0.0400,0.0425,0.0450,0.0475,0.0500,0.0525,0.0550]\n",
        "y1 = [4.00,3.84,3.44,3.12,2.60,1.84,1.40,0.920,0.496,0.316,0.144,0.084,0.064,0.052,0.092,0.160,0.232,0.380,0.524,0.640,0.768,0.896,1.00]\n",
        "x1err = [.00005 for x in range(len(x1))]\n",
        "y1err = [.005 for x in range(len(y1))]"
      ],
      "metadata": {
        "id": "xlkWg-XR7wzK"
      },
      "execution_count": 104,
      "outputs": []
    },
    {
      "cell_type": "code",
      "source": [
        "fig, ax = plt.subplots(figsize=(6,4))\n",
        "ax.errorbar(x1,y1, xerr=x1err, yerr=y1err, fmt=\".k\", label=\"data\")\n",
        "ax.set_title(r'$\\tau$ vs $\\tau_{\\pi/2,B}$ ', fontsize=16, fontweight='bold')\n",
        "ax.set_xlabel(r'$\\tau$ [sec]', fontsize=16, fontweight='bold')\n",
        "ax.set_ylabel(r'Voltage [V]', fontsize=16, fontweight='bold')\n",
        "ax.legend()\n",
        "ax.grid()\n",
        "plt.tight_layout()\n",
        "plt.savefig('T1.png')\n",
        "files.download('T1.png')"
      ],
      "metadata": {
        "id": "Kx_-MfON-ZqA",
        "colab": {
          "base_uri": "https://localhost:8080/",
          "height": 297
        },
        "outputId": "a8a4f103-622c-4e3c-a623-6c9561bd8fc9"
      },
      "execution_count": 105,
      "outputs": [
        {
          "output_type": "display_data",
          "data": {
            "text/plain": [
              "<IPython.core.display.Javascript object>"
            ],
            "application/javascript": [
              "\n",
              "    async function download(id, filename, size) {\n",
              "      if (!google.colab.kernel.accessAllowed) {\n",
              "        return;\n",
              "      }\n",
              "      const div = document.createElement('div');\n",
              "      const label = document.createElement('label');\n",
              "      label.textContent = `Downloading \"${filename}\": `;\n",
              "      div.appendChild(label);\n",
              "      const progress = document.createElement('progress');\n",
              "      progress.max = size;\n",
              "      div.appendChild(progress);\n",
              "      document.body.appendChild(div);\n",
              "\n",
              "      const buffers = [];\n",
              "      let downloaded = 0;\n",
              "\n",
              "      const channel = await google.colab.kernel.comms.open(id);\n",
              "      // Send a message to notify the kernel that we're ready.\n",
              "      channel.send({})\n",
              "\n",
              "      for await (const message of channel.messages) {\n",
              "        // Send a message to notify the kernel that we're ready.\n",
              "        channel.send({})\n",
              "        if (message.buffers) {\n",
              "          for (const buffer of message.buffers) {\n",
              "            buffers.push(buffer);\n",
              "            downloaded += buffer.byteLength;\n",
              "            progress.value = downloaded;\n",
              "          }\n",
              "        }\n",
              "      }\n",
              "      const blob = new Blob(buffers, {type: 'application/binary'});\n",
              "      const a = document.createElement('a');\n",
              "      a.href = window.URL.createObjectURL(blob);\n",
              "      a.download = filename;\n",
              "      div.appendChild(a);\n",
              "      a.click();\n",
              "      div.remove();\n",
              "    }\n",
              "  "
            ]
          },
          "metadata": {}
        },
        {
          "output_type": "display_data",
          "data": {
            "text/plain": [
              "<IPython.core.display.Javascript object>"
            ],
            "application/javascript": [
              "download(\"download_37fe537f-b13f-4198-b104-20f071e37ba0\", \"T1.png\", 12756)"
            ]
          },
          "metadata": {}
        },
        {
          "output_type": "display_data",
          "data": {
            "text/plain": [
              "<Figure size 432x288 with 1 Axes>"
            ],
            "image/png": "[encoded data removed]"
          },
          "metadata": {
            "needs_background": "light"
          }
        }
      ]
    },
    {
      "cell_type": "markdown",
      "source": [
        "Finding T2"
      ],
      "metadata": {
        "id": "Oo0Pqok59lqL"
      }
    },
    {
      "cell_type": "code",
      "source": [
        "x2 = [.0002, .0003, .0004, .0005, .0006, .0007, .0008, .0009, .0010, .0011]\n",
        "y2 = [3.680, 3.520, 3.380, 3.220, 3.040, 2.900, 2.780, 2.660, 2.540, 2.440]\n",
        "y2err = [.0005 for x in range(len(y2))]"
      ],
      "metadata": {
        "id": "NMHhWRTL9nd8"
      },
      "execution_count": 106,
      "outputs": []
    },
    {
      "cell_type": "code",
      "source": [
        "guess = [3.7,100,0]\n",
        "popt, pcov = optimize.curve_fit(func,x2,y2, p0=guess)\n",
        "print(popt, pcov)"
      ],
      "metadata": {
        "colab": {
          "base_uri": "https://localhost:8080/"
        },
        "id": "ADhCjlnENyCx",
        "outputId": "33f091ec-f549-4f95-c1b2-610696ea41d2"
      },
      "execution_count": 107,
      "outputs": [
        {
          "output_type": "stream",
          "name": "stdout",
          "text": [
            "[3.61406693e+00 5.48996916e+02 4.55027730e-01] [[ 1.77514043e-01 -4.02595194e+01 -1.88160039e-01]\n",
            " [-4.02595194e+01  9.22950031e+03  4.28270433e+01]\n",
            " [-1.88160039e-01  4.28270433e+01  1.99705215e-01]]\n"
          ]
        }
      ]
    },
    {
      "cell_type": "code",
      "source": [
        "y3 = [popt[0]*np.exp(-x*popt[1])+popt[2] for x in x2]\n",
        "print(1/popt[1], np.sqrt(np.diag(pcov))/(9.22950031*10**3)**2)"
      ],
      "metadata": {
        "colab": {
          "base_uri": "https://localhost:8080/"
        },
        "id": "7kZDx7Dodvpi",
        "outputId": "b81a4ce1-44ca-4f8a-85b9-fcce92667d24"
      },
      "execution_count": 108,
      "outputs": [
        {
          "output_type": "stream",
          "name": "stdout",
          "text": [
            "0.001821503858515803 [4.94606683e-09 1.12780163e-06 5.24612127e-09]\n"
          ]
        }
      ]
    },
    {
      "cell_type": "code",
      "source": [
        "fig2, ax2 = plt.subplots(figsize=(6,4))\n",
        "ax2.errorbar(x2,y2, yerr=y2err, fmt=\".k\", label=\"data\")\n",
        "ax2.plot(x2, y3, 'r-', label=r'Fit: $T_2=.0018\\pm(0000011)$')\n",
        "ax2.set_title(r'$\\tau$ vs $\\tau_{\\pi,B}$ ', fontsize=16, fontweight='bold')\n",
        "ax2.set_xlabel(r'$\\tau$ [sec]', fontsize=16, fontweight='bold')\n",
        "ax2.set_ylabel(r'Voltage [V]', fontsize=16, fontweight='bold')\n",
        "ax2.legend()\n",
        "ax2.grid()\n",
        "plt.tight_layout()\n",
        "plt.savefig('T2.png')\n",
        "files.download('T2.png')"
      ],
      "metadata": {
        "colab": {
          "base_uri": "https://localhost:8080/",
          "height": 297
        },
        "id": "3TwsyCag-O4a",
        "outputId": "fbcc65c3-97f4-4fa9-f348-889ba77ba1d6"
      },
      "execution_count": 109,
      "outputs": [
        {
          "output_type": "display_data",
          "data": {
            "text/plain": [
              "<IPython.core.display.Javascript object>"
            ],
            "application/javascript": [
              "\n",
              "    async function download(id, filename, size) {\n",
              "      if (!google.colab.kernel.accessAllowed) {\n",
              "        return;\n",
              "      }\n",
              "      const div = document.createElement('div');\n",
              "      const label = document.createElement('label');\n",
              "      label.textContent = `Downloading \"${filename}\": `;\n",
              "      div.appendChild(label);\n",
              "      const progress = document.createElement('progress');\n",
              "      progress.max = size;\n",
              "      div.appendChild(progress);\n",
              "      document.body.appendChild(div);\n",
              "\n",
              "      const buffers = [];\n",
              "      let downloaded = 0;\n",
              "\n",
              "      const channel = await google.colab.kernel.comms.open(id);\n",
              "      // Send a message to notify the kernel that we're ready.\n",
              "      channel.send({})\n",
              "\n",
              "      for await (const message of channel.messages) {\n",
              "        // Send a message to notify the kernel that we're ready.\n",
              "        channel.send({})\n",
              "        if (message.buffers) {\n",
              "          for (const buffer of message.buffers) {\n",
              "            buffers.push(buffer);\n",
              "            downloaded += buffer.byteLength;\n",
              "            progress.value = downloaded;\n",
              "          }\n",
              "        }\n",
              "      }\n",
              "      const blob = new Blob(buffers, {type: 'application/binary'});\n",
              "      const a = document.createElement('a');\n",
              "      a.href = window.URL.createObjectURL(blob);\n",
              "      a.download = filename;\n",
              "      div.appendChild(a);\n",
              "      a.click();\n",
              "      div.remove();\n",
              "    }\n",
              "  "
            ]
          },
          "metadata": {}
        },
        {
          "output_type": "display_data",
          "data": {
            "text/plain": [
              "<IPython.core.display.Javascript object>"
            ],
            "application/javascript": [
              "download(\"download_639293fb-44b9-4162-a880-e91339313a01\", \"T2.png\", 17272)"
            ]
          },
          "metadata": {}
        },
        {
          "output_type": "display_data",
          "data": {
            "text/plain": [
              "<Figure size 432x288 with 1 Axes>"
            ],
            "image/png": "[encoded data removed]"
          },
          "metadata": {
            "needs_background": "light"
          }
        }
      ]
    }
  ]
}