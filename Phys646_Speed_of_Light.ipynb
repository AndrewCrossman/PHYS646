{
  "nbformat": 4,
  "nbformat_minor": 0,
  "metadata": {
    "colab": {
      "name": "Phys646_Speed_of_Light.ipynb",
      "provenance": [],
      "authorship_tag": "ABX9TyMULJ0q3lYYBOLC8LTbkjOZ",
      "include_colab_link": true
    },
    "kernelspec": {
      "name": "python3",
      "display_name": "Python 3"
    },
    "language_info": {
      "name": "python"
    }
  },
  "cells": [
    {
      "cell_type": "markdown",
      "metadata": {
        "id": "view-in-github",
        "colab_type": "text"
      },
      "source": [
        "<a href=\"https://colab.research.google.com/github/AndrewCrossman/PHYS646/blob/main/Phys646_Speed_of_Light.ipynb\" target=\"_parent\"><img src=\"https://colab.research.google.com/assets/colab-badge.svg\" alt=\"Open In Colab\"/></a>"
      ]
    },
    {
      "cell_type": "code",
      "execution_count": 1,
      "metadata": {
        "id": "pl_HmzRli6sS",
        "colab": {
          "base_uri": "https://localhost:8080/"
        },
        "outputId": "b4d45325-615a-4f17-c000-efaa4309abcb"
      },
      "outputs": [
        {
          "output_type": "stream",
          "name": "stdout",
          "text": [
            "Populating the interactive namespace from numpy and matplotlib\n"
          ]
        },
        {
          "output_type": "stream",
          "name": "stderr",
          "text": [
            "/usr/local/lib/python3.7/dist-packages/IPython/core/magics/pylab.py:161: UserWarning: pylab import has clobbered these variables: ['plt']\n",
            "`%matplotlib` prevents importing * from pylab and numpy\n",
            "  \"\\n`%matplotlib` prevents importing * from pylab and numpy\"\n"
          ]
        }
      ],
      "source": [
        "import numpy as np\n",
        "import scipy as sp\n",
        "from scipy import stats\n",
        "import matplotlib.pylab as plt\n",
        "from scipy.stats import linregress\n",
        "from scipy import optimize\n",
        "from google.colab import files\n",
        "%pylab inline\n",
        "#plt.style.use(\"https://raw.githubusercontent.com/fedhere/DSPS/master/fbb.mplstyle\")"
      ]
    },
    {
      "cell_type": "code",
      "source": [
        "dd = .0025\n",
        "# because the measured time is t2-t1 where both t1 and t2 have an uncertainty of .05ns\n",
        "# the total uncertianty is (t2^2+t1^2)^(1/2)\n",
        "dt = (.05**2+.05**2)**(1/2)"
      ],
      "metadata": {
        "id": "KAdpXg2Ujoc9"
      },
      "execution_count": 2,
      "outputs": []
    },
    {
      "cell_type": "code",
      "source": [
        "x = [1.02, 1.205, 1.35, 1.53, 1.705, 1.89, 2.08, 2.37, 2.585, 2.86]\n",
        "t = [x/2 for x in [6.943, 7.742, 9.129, 10.006, 11.115, 12.494, 13.55, 16.03, 16.922, 18.642]]"
      ],
      "metadata": {
        "id": "lC_GWBsKltd0"
      },
      "execution_count": 3,
      "outputs": []
    },
    {
      "cell_type": "code",
      "source": [
        "terr = [dt for x in range(len(t))]"
      ],
      "metadata": {
        "id": "g1BQZ_8rmWgk"
      },
      "execution_count": 4,
      "outputs": []
    },
    {
      "cell_type": "code",
      "source": [
        "c = [x[i]/t[i] for i in range(len(x))]\n",
        "cmean = np.mean(c)\n",
        "sum = 0\n",
        "for i in c:\n",
        "  sum = sum + (i-cmean)**2\n",
        "std = np.sqrt(1/9*sum)\n",
        "error = std/np.sqrt(10)\n",
        "cmean, error"
      ],
      "metadata": {
        "colab": {
          "base_uri": "https://localhost:8080/"
        },
        "id": "zjccpwJEr_Vl",
        "outputId": "02cde6f1-a05e-4477-a30a-7fea0b725c0c"
      },
      "execution_count": 9,
      "outputs": [
        {
          "output_type": "execute_result",
          "data": {
            "text/plain": [
              "(0.30310854179160823, 0.0018804954831554263)"
            ]
          },
          "metadata": {},
          "execution_count": 9
        }
      ]
    },
    {
      "cell_type": "code",
      "source": [
        "X = np.c_[np.ones(len(x)), x]\n",
        "theta_best = np.linalg.inv(X.T.dot(X)).dot(X.T).dot(t)\n",
        "theta_best"
      ],
      "metadata": {
        "colab": {
          "base_uri": "https://localhost:8080/"
        },
        "id": "Lqnq0jxJodBF",
        "outputId": "f2463ef1-a21a-45bf-b4f5-1a0b9d339d29"
      },
      "execution_count": 12,
      "outputs": [
        {
          "output_type": "execute_result",
          "data": {
            "text/plain": [
              "array([0.06819882, 3.25918321])"
            ]
          },
          "metadata": {},
          "execution_count": 12
        }
      ]
    },
    {
      "cell_type": "code",
      "source": [
        "A = np.vander(x, 2) #alternative to np.c_, same difference, but note the order of the columns\n",
        "ATA = np.dot(A.T, A / np.power(terr,2)[:, None])\n",
        "cov = np.linalg.inv(ATA) #covariance will give us the errors\n",
        "w = np.linalg.solve(ATA, np.dot(A.T, t / np.power(terr,2)))"
      ],
      "metadata": {
        "id": "cf2U7sksrEX_"
      },
      "execution_count": 13,
      "outputs": []
    },
    {
      "cell_type": "code",
      "source": [
        "print(\"Least-squares estimates:\")\n",
        "print(\"m = {0:.9f} ± {1:.8f}\".format(w[0], np.sqrt(cov[0, 0])))\n",
        "print(\"b = {0:.3f} ± {1:.3f}\".format(w[1], np.sqrt(cov[1, 1])))"
      ],
      "metadata": {
        "colab": {
          "base_uri": "https://localhost:8080/"
        },
        "id": "Qq5SDAR3ri5c",
        "outputId": "f02e4ed4-8331-4614-c154-9b16c5dca3fe"
      },
      "execution_count": 15,
      "outputs": [
        {
          "output_type": "stream",
          "name": "stdout",
          "text": [
            "Least-squares estimates:\n",
            "m = 3.259183209 ± 0.03856051\n",
            "b = 0.068 ± 0.075\n"
          ]
        }
      ]
    },
    {
      "cell_type": "code",
      "source": [
        "fig, ax = plt.subplots(figsize=(6,4))\n",
        "ax.errorbar(x,t,yerr=terr, fmt=\".k\", label=\"data\")\n",
        "ax.plot(x, np.multiply(w[0],x)+w[1], \"r\", \n",
        "         alpha=0.75, lw=3, label=\"Best Fit: m = {0:.3f} ± {1:.3f}\".format(w[0], np.sqrt(cov[0, 0])))\n",
        "ax.set_title(r'Inverse Speed of Light', fontsize=16, fontweight='bold')\n",
        "ax.set_xlabel('Distance [m]', fontsize=16, fontweight='bold')\n",
        "ax.set_ylabel(r'Time [ns]', fontsize=16, fontweight='bold')\n",
        "ax.set_xlim(.9,2.9)\n",
        "ax.set_ylim(3,10)\n",
        "ax.legend()\n",
        "ax.grid()\n",
        "plt.tight_layout()\n",
        "plt.savefig(\"1.png\")\n",
        "files.download('1.png')"
      ],
      "metadata": {
        "colab": {
          "base_uri": "https://localhost:8080/",
          "height": 297
        },
        "id": "iolxH_GTpMAu",
        "outputId": "f0af78f7-6663-4820-faa5-36ed34b6931f"
      },
      "execution_count": 47,
      "outputs": [
        {
          "output_type": "display_data",
          "data": {
            "text/plain": [
              "<IPython.core.display.Javascript object>"
            ],
            "application/javascript": [
              "\n",
              "    async function download(id, filename, size) {\n",
              "      if (!google.colab.kernel.accessAllowed) {\n",
              "        return;\n",
              "      }\n",
              "      const div = document.createElement('div');\n",
              "      const label = document.createElement('label');\n",
              "      label.textContent = `Downloading \"${filename}\": `;\n",
              "      div.appendChild(label);\n",
              "      const progress = document.createElement('progress');\n",
              "      progress.max = size;\n",
              "      div.appendChild(progress);\n",
              "      document.body.appendChild(div);\n",
              "\n",
              "      const buffers = [];\n",
              "      let downloaded = 0;\n",
              "\n",
              "      const channel = await google.colab.kernel.comms.open(id);\n",
              "      // Send a message to notify the kernel that we're ready.\n",
              "      channel.send({})\n",
              "\n",
              "      for await (const message of channel.messages) {\n",
              "        // Send a message to notify the kernel that we're ready.\n",
              "        channel.send({})\n",
              "        if (message.buffers) {\n",
              "          for (const buffer of message.buffers) {\n",
              "            buffers.push(buffer);\n",
              "            downloaded += buffer.byteLength;\n",
              "            progress.value = downloaded;\n",
              "          }\n",
              "        }\n",
              "      }\n",
              "      const blob = new Blob(buffers, {type: 'application/binary'});\n",
              "      const a = document.createElement('a');\n",
              "      a.href = window.URL.createObjectURL(blob);\n",
              "      a.download = filename;\n",
              "      div.appendChild(a);\n",
              "      a.click();\n",
              "      div.remove();\n",
              "    }\n",
              "  "
            ]
          },
          "metadata": {}
        },
        {
          "output_type": "display_data",
          "data": {
            "text/plain": [
              "<IPython.core.display.Javascript object>"
            ],
            "application/javascript": [
              "download(\"download_39ae329a-2e0d-4243-a485-9b730dd1b3c0\", \"1.png\", 18691)"
            ]
          },
          "metadata": {}
        },
        {
          "output_type": "display_data",
          "data": {
            "text/plain": [
              "<Figure size 432x288 with 1 Axes>"
            ],
            "image/png": "[encoded data removed]"
          },
          "metadata": {
            "needs_background": "light"
          }
        }
      ]
    }
  ]
}